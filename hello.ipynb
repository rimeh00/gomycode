{
  "nbformat": 4,
  "nbformat_minor": 0,
  "metadata": {
    "colab": {
      "name": "Untitled1.ipynb",
      "provenance": [],
      "collapsed_sections": []
    },
    "kernelspec": {
      "name": "python3",
      "display_name": "Python 3"
    },
    "language_info": {
      "name": "python"
    }
  },
  "cells": [
    {
      "cell_type": "code",
      "metadata": {
        "colab": {
          "base_uri": "https://localhost:8080/"
        },
        "id": "lLhVWJKEWt5A",
        "outputId": "8ad28083-d1bc-4573-a9c0-2b688e500d23"
      },
      "source": [
        "print (\"welcome to python world, let's start coding\")"
      ],
      "execution_count": 1,
      "outputs": [
        {
          "output_type": "stream",
          "text": [
            "welcome to python world, let's start coding\n"
          ],
          "name": "stdout"
        }
      ]
    }
  ]
}