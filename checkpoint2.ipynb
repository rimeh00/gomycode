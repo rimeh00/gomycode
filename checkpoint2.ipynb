{
  "nbformat": 4,
  "nbformat_minor": 0,
  "metadata": {
    "colab": {
      "name": "checkpoint2.ipynb",
      "provenance": [],
      "collapsed_sections": [],
      "authorship_tag": "ABX9TyMvsYfqYOa8Ay1RmOc/eVaM",
      "include_colab_link": true
    },
    "kernelspec": {
      "name": "python3",
      "display_name": "Python 3"
    },
    "language_info": {
      "name": "python"
    }
  },
  "cells": [
    {
      "cell_type": "markdown",
      "metadata": {
        "id": "view-in-github",
        "colab_type": "text"
      },
      "source": [
        "<a href=\"https://colab.research.google.com/github/rimeh00/gomycode/blob/main/checkpoint2.ipynb\" target=\"_parent\"><img src=\"https://colab.research.google.com/assets/colab-badge.svg\" alt=\"Open In Colab\"/></a>"
      ]
    },
    {
      "cell_type": "markdown",
      "metadata": {
        "id": "gMwmWFNVP0Om"
      },
      "source": [
        "# question 1\n"
      ]
    },
    {
      "cell_type": "code",
      "metadata": {
        "colab": {
          "base_uri": "https://localhost:8080/"
        },
        "id": "FrKjsamsP_MD",
        "outputId": "988560a9-c749-4879-a055-c2611652a681"
      },
      "source": [
        "request=[]\n",
        "for i in range (2000,3201):\n",
        "  if i%7== 0 and i%5!= 0:\n",
        "    request.append(i)\n",
        "print(request)\n",
        "    \n",
        "\n",
        "    \n",
        "\n"
      ],
      "execution_count": 18,
      "outputs": [
        {
          "output_type": "stream",
          "text": [
            "[2002, 2009, 2016, 2023, 2037, 2044, 2051, 2058, 2072, 2079, 2086, 2093, 2107, 2114, 2121, 2128, 2142, 2149, 2156, 2163, 2177, 2184, 2191, 2198, 2212, 2219, 2226, 2233, 2247, 2254, 2261, 2268, 2282, 2289, 2296, 2303, 2317, 2324, 2331, 2338, 2352, 2359, 2366, 2373, 2387, 2394, 2401, 2408, 2422, 2429, 2436, 2443, 2457, 2464, 2471, 2478, 2492, 2499, 2506, 2513, 2527, 2534, 2541, 2548, 2562, 2569, 2576, 2583, 2597, 2604, 2611, 2618, 2632, 2639, 2646, 2653, 2667, 2674, 2681, 2688, 2702, 2709, 2716, 2723, 2737, 2744, 2751, 2758, 2772, 2779, 2786, 2793, 2807, 2814, 2821, 2828, 2842, 2849, 2856, 2863, 2877, 2884, 2891, 2898, 2912, 2919, 2926, 2933, 2947, 2954, 2961, 2968, 2982, 2989, 2996, 3003, 3017, 3024, 3031, 3038, 3052, 3059, 3066, 3073, 3087, 3094, 3101, 3108, 3122, 3129, 3136, 3143, 3157, 3164, 3171, 3178, 3192, 3199]\n"
          ],
          "name": "stdout"
        }
      ]
    },
    {
      "cell_type": "markdown",
      "metadata": {
        "id": "WcyUCYWzUdpi"
      },
      "source": [
        "# question 2\n"
      ]
    },
    {
      "cell_type": "code",
      "metadata": {
        "colab": {
          "base_uri": "https://localhost:8080/"
        },
        "id": "q5o_TOJoUjiJ",
        "outputId": "ff2e2331-fe83-4887-fe3a-a9cfca0a03cd"
      },
      "source": [
        "def factorial(x) :\n",
        "  result=1\n",
        "  for i in range (x+1):\n",
        "    if i==0:\n",
        "      result=1\n",
        "    else:\n",
        "      result*=i\n",
        "  return (result)\n",
        "\n",
        "\n",
        "print(factorial(0))\n",
        "\n",
        "\n",
        "\n",
        "  "
      ],
      "execution_count": 24,
      "outputs": [
        {
          "output_type": "stream",
          "text": [
            "1\n"
          ],
          "name": "stdout"
        }
      ]
    },
    {
      "cell_type": "markdown",
      "metadata": {
        "id": "Zqh07h-TXN_9"
      },
      "source": [
        "# question 3\n"
      ]
    },
    {
      "cell_type": "code",
      "metadata": {
        "colab": {
          "base_uri": "https://localhost:8080/"
        },
        "id": "8Ci42zSDXRXX",
        "outputId": "3fde6ab7-8898-45a4-9cb8-2d37b4a2bd4b"
      },
      "source": [
        "def new_dictionnary(x):\n",
        "  my_dictionnary={}\n",
        "  for i in range (1,x+1):\n",
        "      my_dictionnary[i]=i**2\n",
        "  return (my_dictionnary)\n",
        "\n",
        "\n",
        "print(new_dictionnary(5))\n"
      ],
      "execution_count": 26,
      "outputs": [
        {
          "output_type": "stream",
          "text": [
            "{1: 1, 2: 4, 3: 9, 4: 16, 5: 25}\n"
          ],
          "name": "stdout"
        }
      ]
    },
    {
      "cell_type": "markdown",
      "metadata": {
        "id": "4ZBU9LR6ZZOF"
      },
      "source": [
        "# question 4\n"
      ]
    },
    {
      "cell_type": "code",
      "metadata": {
        "colab": {
          "base_uri": "https://localhost:8080/"
        },
        "id": "uE8clVjnZdDi",
        "outputId": "991fe56c-037c-4e0c-a08f-1e960bf29979"
      },
      "source": [
        "def char(a,n):\n",
        "  final_str=\"\"\n",
        "  if n<= len(a)-1:\n",
        "     for i in range (len(a)):\n",
        "       if i!=n:\n",
        "         final_str+= a[i]\n",
        "     print(final_str)\n",
        "  else: \n",
        "    print(\"this is not a valid index\")\n",
        "  \n",
        "\n",
        "\n",
        "char('syrine',5)\n",
        "    \n",
        "    "
      ],
      "execution_count": 49,
      "outputs": [
        {
          "output_type": "stream",
          "text": [
            "syrin\n"
          ],
          "name": "stdout"
        }
      ]
    },
    {
      "cell_type": "markdown",
      "metadata": {
        "id": "sLudhb1itVV_"
      },
      "source": [
        "# question 5"
      ]
    },
    {
      "cell_type": "code",
      "metadata": {
        "colab": {
          "base_uri": "https://localhost:8080/"
        },
        "id": "-BBipxMStY6V",
        "outputId": "ff13dda7-0158-40ab-a482-09e5aa556630"
      },
      "source": [
        "import numpy as np\n",
        "\n",
        "def to_list(a):\n",
        "  final=a.tolist()\n",
        "  return print(final)\n",
        "\n",
        "\n",
        "arr= np.array([[1,2,3],[3,5,7]])\n",
        "to_list(arr)\n",
        "  "
      ],
      "execution_count": 1,
      "outputs": [
        {
          "output_type": "stream",
          "text": [
            "[[1, 2, 3], [3, 5, 7]]\n"
          ],
          "name": "stdout"
        }
      ]
    },
    {
      "cell_type": "markdown",
      "metadata": {
        "id": "O2soObwGLG40"
      },
      "source": [
        "# question 6"
      ]
    },
    {
      "cell_type": "code",
      "metadata": {
        "colab": {
          "base_uri": "https://localhost:8080/"
        },
        "id": "9ovsoTbGLLk4",
        "outputId": "3be2fdea-e956-4164-db32-3098b9e54a0e"
      },
      "source": [
        "import numpy as np\n",
        "arr=np.array([0,1,2])\n",
        "arr1= np.array([2,1,0])\n",
        "matrix=np.cov(arr,arr1)\n",
        "print(matrix)"
      ],
      "execution_count": 6,
      "outputs": [
        {
          "output_type": "stream",
          "text": [
            "[[ 1. -1.]\n",
            " [-1.  1.]]\n"
          ],
          "name": "stdout"
        }
      ]
    },
    {
      "cell_type": "markdown",
      "metadata": {
        "id": "_wtHXo5xPTii"
      },
      "source": [
        "# question 7"
      ]
    },
    {
      "cell_type": "code",
      "metadata": {
        "colab": {
          "base_uri": "https://localhost:8080/"
        },
        "id": "bYrnxiQbPZUp",
        "outputId": "41704a43-a0d0-4f98-c281-9f04ce36a972"
      },
      "source": [
        "import math\n",
        "def Q(*D):\n",
        "  C=50\n",
        "  H=30\n",
        "  final=[]\n",
        "  for i in D:\n",
        "    num=(C*i*2)/H\n",
        "    root=round(math.sqrt(num))\n",
        "    final.append(root)\n",
        "  return(final)\n",
        "\n",
        "\n",
        "Q(100,150,180)\n"
      ],
      "execution_count": 16,
      "outputs": [
        {
          "output_type": "execute_result",
          "data": {
            "text/plain": [
              "[18, 22, 24]"
            ]
          },
          "metadata": {
            "tags": []
          },
          "execution_count": 16
        }
      ]
    }
  ]
}