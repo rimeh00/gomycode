{
  "nbformat": 4,
  "nbformat_minor": 0,
  "metadata": {
    "colab": {
      "name": "randomforrest.ipynb",
      "provenance": [],
      "collapsed_sections": [],
      "authorship_tag": "ABX9TyNuHL4uLKPnA8Dj0DTXg565",
      "include_colab_link": true
    },
    "kernelspec": {
      "name": "python3",
      "display_name": "Python 3"
    },
    "language_info": {
      "name": "python"
    }
  },
  "cells": [
    {
      "cell_type": "markdown",
      "metadata": {
        "id": "view-in-github",
        "colab_type": "text"
      },
      "source": [
        "<a href=\"https://colab.research.google.com/github/rimeh00/gomycode/blob/main/randomforrest.ipynb\" target=\"_parent\"><img src=\"https://colab.research.google.com/assets/colab-badge.svg\" alt=\"Open In Colab\"/></a>"
      ]
    },
    {
      "cell_type": "code",
      "metadata": {
        "colab": {
          "resources": {
            "http://localhost:8080/nbextensions/google.colab/files.js": {
              "data": "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",
              "ok": true,
              "headers": [
                [
                  "content-type",
                  "application/javascript"
                ]
              ],
              "status": 200,
              "status_text": ""
            }
          },
          "base_uri": "https://localhost:8080/",
          "height": 72
        },
        "id": "H7V4xvQFku1B",
        "outputId": "74861749-392f-4833-8132-bd76810d55a5"
      },
      "source": [
        "import pandas as pd\n",
        "import io\n",
        "from google.colab import files\n",
        "up= files.upload()"
      ],
      "execution_count": 1,
      "outputs": [
        {
          "output_type": "display_data",
          "data": {
            "text/html": [
              "\n",
              "     <input type=\"file\" id=\"files-436e2ce8-78ef-4cf4-9604-e43bd9d7651b\" name=\"files[]\" multiple disabled\n",
              "        style=\"border:none\" />\n",
              "     <output id=\"result-436e2ce8-78ef-4cf4-9604-e43bd9d7651b\">\n",
              "      Upload widget is only available when the cell has been executed in the\n",
              "      current browser session. Please rerun this cell to enable.\n",
              "      </output>\n",
              "      <script src=\"/nbextensions/google.colab/files.js\"></script> "
            ],
            "text/plain": [
              "<IPython.core.display.HTML object>"
            ]
          },
          "metadata": {
            "tags": []
          }
        },
        {
          "output_type": "stream",
          "text": [
            "Saving titanic-passengers.csv to titanic-passengers.csv\n"
          ],
          "name": "stdout"
        }
      ]
    },
    {
      "cell_type": "code",
      "metadata": {
        "id": "yNcaLZcwXai6"
      },
      "source": [
        ""
      ],
      "execution_count": 1,
      "outputs": []
    },
    {
      "cell_type": "code",
      "metadata": {
        "id": "Sx8SLj1vlDf_"
      },
      "source": [
        "df=pd.read_csv('titanic-passengers.csv',sep=\";\")"
      ],
      "execution_count": 2,
      "outputs": []
    },
    {
      "cell_type": "code",
      "metadata": {
        "colab": {
          "base_uri": "https://localhost:8080/",
          "height": 419
        },
        "id": "_T__T6SBqMQa",
        "outputId": "c8ce7387-daed-44eb-867b-a1c955d4920d"
      },
      "source": [
        "df"
      ],
      "execution_count": 3,
      "outputs": [
        {
          "output_type": "execute_result",
          "data": {
            "text/html": [
              "<div>\n",
              "<style scoped>\n",
              "    .dataframe tbody tr th:only-of-type {\n",
              "        vertical-align: middle;\n",
              "    }\n",
              "\n",
              "    .dataframe tbody tr th {\n",
              "        vertical-align: top;\n",
              "    }\n",
              "\n",
              "    .dataframe thead th {\n",
              "        text-align: right;\n",
              "    }\n",
              "</style>\n",
              "<table border=\"1\" class=\"dataframe\">\n",
              "  <thead>\n",
              "    <tr style=\"text-align: right;\">\n",
              "      <th></th>\n",
              "      <th>PassengerId</th>\n",
              "      <th>Survived</th>\n",
              "      <th>Pclass</th>\n",
              "      <th>Name</th>\n",
              "      <th>Sex</th>\n",
              "      <th>Age</th>\n",
              "      <th>SibSp</th>\n",
              "      <th>Parch</th>\n",
              "      <th>Ticket</th>\n",
              "      <th>Fare</th>\n",
              "      <th>Cabin</th>\n",
              "      <th>Embarked</th>\n",
              "    </tr>\n",
              "  </thead>\n",
              "  <tbody>\n",
              "    <tr>\n",
              "      <th>0</th>\n",
              "      <td>343</td>\n",
              "      <td>No</td>\n",
              "      <td>2</td>\n",
              "      <td>Collander, Mr. Erik Gustaf</td>\n",
              "      <td>male</td>\n",
              "      <td>28.0</td>\n",
              "      <td>0</td>\n",
              "      <td>0</td>\n",
              "      <td>248740</td>\n",
              "      <td>13.0000</td>\n",
              "      <td>NaN</td>\n",
              "      <td>S</td>\n",
              "    </tr>\n",
              "    <tr>\n",
              "      <th>1</th>\n",
              "      <td>76</td>\n",
              "      <td>No</td>\n",
              "      <td>3</td>\n",
              "      <td>Moen, Mr. Sigurd Hansen</td>\n",
              "      <td>male</td>\n",
              "      <td>25.0</td>\n",
              "      <td>0</td>\n",
              "      <td>0</td>\n",
              "      <td>348123</td>\n",
              "      <td>7.6500</td>\n",
              "      <td>F G73</td>\n",
              "      <td>S</td>\n",
              "    </tr>\n",
              "    <tr>\n",
              "      <th>2</th>\n",
              "      <td>641</td>\n",
              "      <td>No</td>\n",
              "      <td>3</td>\n",
              "      <td>Jensen, Mr. Hans Peder</td>\n",
              "      <td>male</td>\n",
              "      <td>20.0</td>\n",
              "      <td>0</td>\n",
              "      <td>0</td>\n",
              "      <td>350050</td>\n",
              "      <td>7.8542</td>\n",
              "      <td>NaN</td>\n",
              "      <td>S</td>\n",
              "    </tr>\n",
              "    <tr>\n",
              "      <th>3</th>\n",
              "      <td>568</td>\n",
              "      <td>No</td>\n",
              "      <td>3</td>\n",
              "      <td>Palsson, Mrs. Nils (Alma Cornelia Berglund)</td>\n",
              "      <td>female</td>\n",
              "      <td>29.0</td>\n",
              "      <td>0</td>\n",
              "      <td>4</td>\n",
              "      <td>349909</td>\n",
              "      <td>21.0750</td>\n",
              "      <td>NaN</td>\n",
              "      <td>S</td>\n",
              "    </tr>\n",
              "    <tr>\n",
              "      <th>4</th>\n",
              "      <td>672</td>\n",
              "      <td>No</td>\n",
              "      <td>1</td>\n",
              "      <td>Davidson, Mr. Thornton</td>\n",
              "      <td>male</td>\n",
              "      <td>31.0</td>\n",
              "      <td>1</td>\n",
              "      <td>0</td>\n",
              "      <td>F.C. 12750</td>\n",
              "      <td>52.0000</td>\n",
              "      <td>B71</td>\n",
              "      <td>S</td>\n",
              "    </tr>\n",
              "    <tr>\n",
              "      <th>...</th>\n",
              "      <td>...</td>\n",
              "      <td>...</td>\n",
              "      <td>...</td>\n",
              "      <td>...</td>\n",
              "      <td>...</td>\n",
              "      <td>...</td>\n",
              "      <td>...</td>\n",
              "      <td>...</td>\n",
              "      <td>...</td>\n",
              "      <td>...</td>\n",
              "      <td>...</td>\n",
              "      <td>...</td>\n",
              "    </tr>\n",
              "    <tr>\n",
              "      <th>886</th>\n",
              "      <td>10</td>\n",
              "      <td>Yes</td>\n",
              "      <td>2</td>\n",
              "      <td>Nasser, Mrs. Nicholas (Adele Achem)</td>\n",
              "      <td>female</td>\n",
              "      <td>14.0</td>\n",
              "      <td>1</td>\n",
              "      <td>0</td>\n",
              "      <td>237736</td>\n",
              "      <td>30.0708</td>\n",
              "      <td>NaN</td>\n",
              "      <td>C</td>\n",
              "    </tr>\n",
              "    <tr>\n",
              "      <th>887</th>\n",
              "      <td>61</td>\n",
              "      <td>No</td>\n",
              "      <td>3</td>\n",
              "      <td>Sirayanian, Mr. Orsen</td>\n",
              "      <td>male</td>\n",
              "      <td>22.0</td>\n",
              "      <td>0</td>\n",
              "      <td>0</td>\n",
              "      <td>2669</td>\n",
              "      <td>7.2292</td>\n",
              "      <td>NaN</td>\n",
              "      <td>C</td>\n",
              "    </tr>\n",
              "    <tr>\n",
              "      <th>888</th>\n",
              "      <td>535</td>\n",
              "      <td>No</td>\n",
              "      <td>3</td>\n",
              "      <td>Cacic, Miss. Marija</td>\n",
              "      <td>female</td>\n",
              "      <td>30.0</td>\n",
              "      <td>0</td>\n",
              "      <td>0</td>\n",
              "      <td>315084</td>\n",
              "      <td>8.6625</td>\n",
              "      <td>NaN</td>\n",
              "      <td>S</td>\n",
              "    </tr>\n",
              "    <tr>\n",
              "      <th>889</th>\n",
              "      <td>102</td>\n",
              "      <td>No</td>\n",
              "      <td>3</td>\n",
              "      <td>Petroff, Mr. Pastcho (\"Pentcho\")</td>\n",
              "      <td>male</td>\n",
              "      <td>NaN</td>\n",
              "      <td>0</td>\n",
              "      <td>0</td>\n",
              "      <td>349215</td>\n",
              "      <td>7.8958</td>\n",
              "      <td>NaN</td>\n",
              "      <td>S</td>\n",
              "    </tr>\n",
              "    <tr>\n",
              "      <th>890</th>\n",
              "      <td>428</td>\n",
              "      <td>Yes</td>\n",
              "      <td>2</td>\n",
              "      <td>Phillips, Miss. Kate Florence (\"Mrs Kate Louis...</td>\n",
              "      <td>female</td>\n",
              "      <td>19.0</td>\n",
              "      <td>0</td>\n",
              "      <td>0</td>\n",
              "      <td>250655</td>\n",
              "      <td>26.0000</td>\n",
              "      <td>NaN</td>\n",
              "      <td>S</td>\n",
              "    </tr>\n",
              "  </tbody>\n",
              "</table>\n",
              "<p>891 rows × 12 columns</p>\n",
              "</div>"
            ],
            "text/plain": [
              "     PassengerId Survived  Pclass  ...     Fare  Cabin  Embarked\n",
              "0            343       No       2  ...  13.0000    NaN         S\n",
              "1             76       No       3  ...   7.6500  F G73         S\n",
              "2            641       No       3  ...   7.8542    NaN         S\n",
              "3            568       No       3  ...  21.0750    NaN         S\n",
              "4            672       No       1  ...  52.0000    B71         S\n",
              "..           ...      ...     ...  ...      ...    ...       ...\n",
              "886           10      Yes       2  ...  30.0708    NaN         C\n",
              "887           61       No       3  ...   7.2292    NaN         C\n",
              "888          535       No       3  ...   8.6625    NaN         S\n",
              "889          102       No       3  ...   7.8958    NaN         S\n",
              "890          428      Yes       2  ...  26.0000    NaN         S\n",
              "\n",
              "[891 rows x 12 columns]"
            ]
          },
          "metadata": {
            "tags": []
          },
          "execution_count": 3
        }
      ]
    },
    {
      "cell_type": "code",
      "metadata": {
        "colab": {
          "base_uri": "https://localhost:8080/"
        },
        "id": "Jxri3RhiluxO",
        "outputId": "39eb43d8-75e2-4fa1-eb5f-c5e1a41bafe6"
      },
      "source": [
        "df.info()"
      ],
      "execution_count": 4,
      "outputs": [
        {
          "output_type": "stream",
          "text": [
            "<class 'pandas.core.frame.DataFrame'>\n",
            "RangeIndex: 891 entries, 0 to 890\n",
            "Data columns (total 12 columns):\n",
            " #   Column       Non-Null Count  Dtype  \n",
            "---  ------       --------------  -----  \n",
            " 0   PassengerId  891 non-null    int64  \n",
            " 1   Survived     891 non-null    object \n",
            " 2   Pclass       891 non-null    int64  \n",
            " 3   Name         891 non-null    object \n",
            " 4   Sex          891 non-null    object \n",
            " 5   Age          714 non-null    float64\n",
            " 6   SibSp        891 non-null    int64  \n",
            " 7   Parch        891 non-null    int64  \n",
            " 8   Ticket       891 non-null    object \n",
            " 9   Fare         891 non-null    float64\n",
            " 10  Cabin        204 non-null    object \n",
            " 11  Embarked     889 non-null    object \n",
            "dtypes: float64(2), int64(4), object(6)\n",
            "memory usage: 83.7+ KB\n"
          ],
          "name": "stdout"
        }
      ]
    },
    {
      "cell_type": "code",
      "metadata": {
        "colab": {
          "base_uri": "https://localhost:8080/"
        },
        "id": "-OLuifumrlTA",
        "outputId": "87cf67d7-d537-48c7-ef35-de81b9c60f81"
      },
      "source": [
        "df.columns.to_list()"
      ],
      "execution_count": 5,
      "outputs": [
        {
          "output_type": "execute_result",
          "data": {
            "text/plain": [
              "['PassengerId',\n",
              " 'Survived',\n",
              " 'Pclass',\n",
              " 'Name',\n",
              " 'Sex',\n",
              " 'Age',\n",
              " 'SibSp',\n",
              " 'Parch',\n",
              " 'Ticket',\n",
              " 'Fare',\n",
              " 'Cabin',\n",
              " 'Embarked']"
            ]
          },
          "metadata": {
            "tags": []
          },
          "execution_count": 5
        }
      ]
    },
    {
      "cell_type": "code",
      "metadata": {
        "colab": {
          "base_uri": "https://localhost:8080/"
        },
        "id": "X36NFbZTsP2D",
        "outputId": "a34d4251-fcc1-41bd-e174-ad0ab20f41f2"
      },
      "source": [
        "df.isnull().sum()"
      ],
      "execution_count": 6,
      "outputs": [
        {
          "output_type": "execute_result",
          "data": {
            "text/plain": [
              "PassengerId      0\n",
              "Survived         0\n",
              "Pclass           0\n",
              "Name             0\n",
              "Sex              0\n",
              "Age            177\n",
              "SibSp            0\n",
              "Parch            0\n",
              "Ticket           0\n",
              "Fare             0\n",
              "Cabin          687\n",
              "Embarked         2\n",
              "dtype: int64"
            ]
          },
          "metadata": {
            "tags": []
          },
          "execution_count": 6
        }
      ]
    },
    {
      "cell_type": "code",
      "metadata": {
        "id": "tzHRlmcjtUzU"
      },
      "source": [
        "df['Age'].fillna(df['Age'].median(),inplace=True)"
      ],
      "execution_count": 7,
      "outputs": []
    },
    {
      "cell_type": "code",
      "metadata": {
        "colab": {
          "base_uri": "https://localhost:8080/"
        },
        "id": "tzyO_CGvt2MW",
        "outputId": "f2c07f9f-3810-452a-b5c5-ab79e0146af7"
      },
      "source": [
        "df.isnull().sum()"
      ],
      "execution_count": 8,
      "outputs": [
        {
          "output_type": "execute_result",
          "data": {
            "text/plain": [
              "PassengerId      0\n",
              "Survived         0\n",
              "Pclass           0\n",
              "Name             0\n",
              "Sex              0\n",
              "Age              0\n",
              "SibSp            0\n",
              "Parch            0\n",
              "Ticket           0\n",
              "Fare             0\n",
              "Cabin          687\n",
              "Embarked         2\n",
              "dtype: int64"
            ]
          },
          "metadata": {
            "tags": []
          },
          "execution_count": 8
        }
      ]
    },
    {
      "cell_type": "code",
      "metadata": {
        "id": "IiMC3go7uEtr"
      },
      "source": [
        "df.drop(axis=1, columns=['Cabin'], inplace= True)"
      ],
      "execution_count": 9,
      "outputs": []
    },
    {
      "cell_type": "code",
      "metadata": {
        "colab": {
          "base_uri": "https://localhost:8080/"
        },
        "id": "3qQdv7oQyxjm",
        "outputId": "c0d462c0-c91a-47b7-d41d-a449287982c2"
      },
      "source": [
        "df.info()"
      ],
      "execution_count": 10,
      "outputs": [
        {
          "output_type": "stream",
          "text": [
            "<class 'pandas.core.frame.DataFrame'>\n",
            "RangeIndex: 891 entries, 0 to 890\n",
            "Data columns (total 11 columns):\n",
            " #   Column       Non-Null Count  Dtype  \n",
            "---  ------       --------------  -----  \n",
            " 0   PassengerId  891 non-null    int64  \n",
            " 1   Survived     891 non-null    object \n",
            " 2   Pclass       891 non-null    int64  \n",
            " 3   Name         891 non-null    object \n",
            " 4   Sex          891 non-null    object \n",
            " 5   Age          891 non-null    float64\n",
            " 6   SibSp        891 non-null    int64  \n",
            " 7   Parch        891 non-null    int64  \n",
            " 8   Ticket       891 non-null    object \n",
            " 9   Fare         891 non-null    float64\n",
            " 10  Embarked     889 non-null    object \n",
            "dtypes: float64(2), int64(4), object(5)\n",
            "memory usage: 76.7+ KB\n"
          ],
          "name": "stdout"
        }
      ]
    },
    {
      "cell_type": "code",
      "metadata": {
        "id": "O8uOakqXzrM1"
      },
      "source": [
        "df.dropna(axis=0, how ='any',thresh= None, inplace= True)"
      ],
      "execution_count": 11,
      "outputs": []
    },
    {
      "cell_type": "code",
      "metadata": {
        "colab": {
          "base_uri": "https://localhost:8080/",
          "height": 419
        },
        "id": "ags-vjPx0TpZ",
        "outputId": "8cd5acf3-a8d9-4735-d4e2-bce6db129e8e"
      },
      "source": [
        "df"
      ],
      "execution_count": 12,
      "outputs": [
        {
          "output_type": "execute_result",
          "data": {
            "text/html": [
              "<div>\n",
              "<style scoped>\n",
              "    .dataframe tbody tr th:only-of-type {\n",
              "        vertical-align: middle;\n",
              "    }\n",
              "\n",
              "    .dataframe tbody tr th {\n",
              "        vertical-align: top;\n",
              "    }\n",
              "\n",
              "    .dataframe thead th {\n",
              "        text-align: right;\n",
              "    }\n",
              "</style>\n",
              "<table border=\"1\" class=\"dataframe\">\n",
              "  <thead>\n",
              "    <tr style=\"text-align: right;\">\n",
              "      <th></th>\n",
              "      <th>PassengerId</th>\n",
              "      <th>Survived</th>\n",
              "      <th>Pclass</th>\n",
              "      <th>Name</th>\n",
              "      <th>Sex</th>\n",
              "      <th>Age</th>\n",
              "      <th>SibSp</th>\n",
              "      <th>Parch</th>\n",
              "      <th>Ticket</th>\n",
              "      <th>Fare</th>\n",
              "      <th>Embarked</th>\n",
              "    </tr>\n",
              "  </thead>\n",
              "  <tbody>\n",
              "    <tr>\n",
              "      <th>0</th>\n",
              "      <td>343</td>\n",
              "      <td>No</td>\n",
              "      <td>2</td>\n",
              "      <td>Collander, Mr. Erik Gustaf</td>\n",
              "      <td>male</td>\n",
              "      <td>28.0</td>\n",
              "      <td>0</td>\n",
              "      <td>0</td>\n",
              "      <td>248740</td>\n",
              "      <td>13.0000</td>\n",
              "      <td>S</td>\n",
              "    </tr>\n",
              "    <tr>\n",
              "      <th>1</th>\n",
              "      <td>76</td>\n",
              "      <td>No</td>\n",
              "      <td>3</td>\n",
              "      <td>Moen, Mr. Sigurd Hansen</td>\n",
              "      <td>male</td>\n",
              "      <td>25.0</td>\n",
              "      <td>0</td>\n",
              "      <td>0</td>\n",
              "      <td>348123</td>\n",
              "      <td>7.6500</td>\n",
              "      <td>S</td>\n",
              "    </tr>\n",
              "    <tr>\n",
              "      <th>2</th>\n",
              "      <td>641</td>\n",
              "      <td>No</td>\n",
              "      <td>3</td>\n",
              "      <td>Jensen, Mr. Hans Peder</td>\n",
              "      <td>male</td>\n",
              "      <td>20.0</td>\n",
              "      <td>0</td>\n",
              "      <td>0</td>\n",
              "      <td>350050</td>\n",
              "      <td>7.8542</td>\n",
              "      <td>S</td>\n",
              "    </tr>\n",
              "    <tr>\n",
              "      <th>3</th>\n",
              "      <td>568</td>\n",
              "      <td>No</td>\n",
              "      <td>3</td>\n",
              "      <td>Palsson, Mrs. Nils (Alma Cornelia Berglund)</td>\n",
              "      <td>female</td>\n",
              "      <td>29.0</td>\n",
              "      <td>0</td>\n",
              "      <td>4</td>\n",
              "      <td>349909</td>\n",
              "      <td>21.0750</td>\n",
              "      <td>S</td>\n",
              "    </tr>\n",
              "    <tr>\n",
              "      <th>4</th>\n",
              "      <td>672</td>\n",
              "      <td>No</td>\n",
              "      <td>1</td>\n",
              "      <td>Davidson, Mr. Thornton</td>\n",
              "      <td>male</td>\n",
              "      <td>31.0</td>\n",
              "      <td>1</td>\n",
              "      <td>0</td>\n",
              "      <td>F.C. 12750</td>\n",
              "      <td>52.0000</td>\n",
              "      <td>S</td>\n",
              "    </tr>\n",
              "    <tr>\n",
              "      <th>...</th>\n",
              "      <td>...</td>\n",
              "      <td>...</td>\n",
              "      <td>...</td>\n",
              "      <td>...</td>\n",
              "      <td>...</td>\n",
              "      <td>...</td>\n",
              "      <td>...</td>\n",
              "      <td>...</td>\n",
              "      <td>...</td>\n",
              "      <td>...</td>\n",
              "      <td>...</td>\n",
              "    </tr>\n",
              "    <tr>\n",
              "      <th>886</th>\n",
              "      <td>10</td>\n",
              "      <td>Yes</td>\n",
              "      <td>2</td>\n",
              "      <td>Nasser, Mrs. Nicholas (Adele Achem)</td>\n",
              "      <td>female</td>\n",
              "      <td>14.0</td>\n",
              "      <td>1</td>\n",
              "      <td>0</td>\n",
              "      <td>237736</td>\n",
              "      <td>30.0708</td>\n",
              "      <td>C</td>\n",
              "    </tr>\n",
              "    <tr>\n",
              "      <th>887</th>\n",
              "      <td>61</td>\n",
              "      <td>No</td>\n",
              "      <td>3</td>\n",
              "      <td>Sirayanian, Mr. Orsen</td>\n",
              "      <td>male</td>\n",
              "      <td>22.0</td>\n",
              "      <td>0</td>\n",
              "      <td>0</td>\n",
              "      <td>2669</td>\n",
              "      <td>7.2292</td>\n",
              "      <td>C</td>\n",
              "    </tr>\n",
              "    <tr>\n",
              "      <th>888</th>\n",
              "      <td>535</td>\n",
              "      <td>No</td>\n",
              "      <td>3</td>\n",
              "      <td>Cacic, Miss. Marija</td>\n",
              "      <td>female</td>\n",
              "      <td>30.0</td>\n",
              "      <td>0</td>\n",
              "      <td>0</td>\n",
              "      <td>315084</td>\n",
              "      <td>8.6625</td>\n",
              "      <td>S</td>\n",
              "    </tr>\n",
              "    <tr>\n",
              "      <th>889</th>\n",
              "      <td>102</td>\n",
              "      <td>No</td>\n",
              "      <td>3</td>\n",
              "      <td>Petroff, Mr. Pastcho (\"Pentcho\")</td>\n",
              "      <td>male</td>\n",
              "      <td>28.0</td>\n",
              "      <td>0</td>\n",
              "      <td>0</td>\n",
              "      <td>349215</td>\n",
              "      <td>7.8958</td>\n",
              "      <td>S</td>\n",
              "    </tr>\n",
              "    <tr>\n",
              "      <th>890</th>\n",
              "      <td>428</td>\n",
              "      <td>Yes</td>\n",
              "      <td>2</td>\n",
              "      <td>Phillips, Miss. Kate Florence (\"Mrs Kate Louis...</td>\n",
              "      <td>female</td>\n",
              "      <td>19.0</td>\n",
              "      <td>0</td>\n",
              "      <td>0</td>\n",
              "      <td>250655</td>\n",
              "      <td>26.0000</td>\n",
              "      <td>S</td>\n",
              "    </tr>\n",
              "  </tbody>\n",
              "</table>\n",
              "<p>889 rows × 11 columns</p>\n",
              "</div>"
            ],
            "text/plain": [
              "     PassengerId Survived  Pclass  ...      Ticket     Fare  Embarked\n",
              "0            343       No       2  ...      248740  13.0000         S\n",
              "1             76       No       3  ...      348123   7.6500         S\n",
              "2            641       No       3  ...      350050   7.8542         S\n",
              "3            568       No       3  ...      349909  21.0750         S\n",
              "4            672       No       1  ...  F.C. 12750  52.0000         S\n",
              "..           ...      ...     ...  ...         ...      ...       ...\n",
              "886           10      Yes       2  ...      237736  30.0708         C\n",
              "887           61       No       3  ...        2669   7.2292         C\n",
              "888          535       No       3  ...      315084   8.6625         S\n",
              "889          102       No       3  ...      349215   7.8958         S\n",
              "890          428      Yes       2  ...      250655  26.0000         S\n",
              "\n",
              "[889 rows x 11 columns]"
            ]
          },
          "metadata": {
            "tags": []
          },
          "execution_count": 12
        }
      ]
    },
    {
      "cell_type": "code",
      "metadata": {
        "colab": {
          "base_uri": "https://localhost:8080/"
        },
        "id": "__9gCR330ZUl",
        "outputId": "e7a07829-610f-4973-e93f-d66996da02c1"
      },
      "source": [
        "df.isnull().sum()"
      ],
      "execution_count": 13,
      "outputs": [
        {
          "output_type": "execute_result",
          "data": {
            "text/plain": [
              "PassengerId    0\n",
              "Survived       0\n",
              "Pclass         0\n",
              "Name           0\n",
              "Sex            0\n",
              "Age            0\n",
              "SibSp          0\n",
              "Parch          0\n",
              "Ticket         0\n",
              "Fare           0\n",
              "Embarked       0\n",
              "dtype: int64"
            ]
          },
          "metadata": {
            "tags": []
          },
          "execution_count": 13
        }
      ]
    },
    {
      "cell_type": "code",
      "metadata": {
        "id": "F71b59cM7gO_"
      },
      "source": [
        "import matplotlib.pyplot as plt\n"
      ],
      "execution_count": 14,
      "outputs": []
    },
    {
      "cell_type": "code",
      "metadata": {
        "colab": {
          "base_uri": "https://localhost:8080/",
          "height": 312
        },
        "id": "p_3X5pMM8AwA",
        "outputId": "198b94ba-9c67-4aca-f0be-1858fc42c294"
      },
      "source": [
        "plt.title('age distribution')\n",
        "plt.xlabel('age')\n",
        "plt.ylabel('number')\n",
        "df['Age'].plot.hist()"
      ],
      "execution_count": 15,
      "outputs": [
        {
          "output_type": "execute_result",
          "data": {
            "text/plain": [
              "<matplotlib.axes._subplots.AxesSubplot at 0x7f4ade5df110>"
            ]
          },
          "metadata": {
            "tags": []
          },
          "execution_count": 15
        },
        {
          "output_type": "display_data",
          "data": {
            "image/png": "[encoded data removed]",
            "text/plain": [
              "<Figure size 432x288 with 1 Axes>"
            ]
          },
          "metadata": {
            "tags": [],
            "needs_background": "light"
          }
        }
      ]
    },
    {
      "cell_type": "code",
      "metadata": {
        "colab": {
          "base_uri": "https://localhost:8080/",
          "height": 350
        },
        "id": "V4BZ4MHwXfPg",
        "outputId": "5ace06bc-2346-42b3-8ee8-cfbf4fba23ca"
      },
      "source": [
        "import seaborn as sns\n",
        "sns.distplot(df['Age'],bins= 20, hist=True, kde= True, color=\"green\")"
      ],
      "execution_count": 16,
      "outputs": [
        {
          "output_type": "stream",
          "text": [
            "/usr/local/lib/python3.7/dist-packages/seaborn/distributions.py:2557: FutureWarning: `distplot` is a deprecated function and will be removed in a future version. Please adapt your code to use either `displot` (a figure-level function with similar flexibility) or `histplot` (an axes-level function for histograms).\n",
            "  warnings.warn(msg, FutureWarning)\n"
          ],
          "name": "stderr"
        },
        {
          "output_type": "execute_result",
          "data": {
            "text/plain": [
              "<matplotlib.axes._subplots.AxesSubplot at 0x7f4ac9f4d110>"
            ]
          },
          "metadata": {
            "tags": []
          },
          "execution_count": 16
        },
        {
          "output_type": "display_data",
          "data": {
            "image/png": "[encoded data removed]",
            "text/plain": [
              "<Figure size 432x288 with 1 Axes>"
            ]
          },
          "metadata": {
            "tags": [],
            "needs_background": "light"
          }
        }
      ]
    },
    {
      "cell_type": "code",
      "metadata": {
        "colab": {
          "base_uri": "https://localhost:8080/",
          "height": 286
        },
        "id": "rVoOqPIQcpgQ",
        "outputId": "99fd77e2-79ff-41a3-8b32-44ac592c6be4"
      },
      "source": [
        "vc= df['Sex'].value_counts()\n",
        "vc.plot.bar(rot=3)"
      ],
      "execution_count": 17,
      "outputs": [
        {
          "output_type": "execute_result",
          "data": {
            "text/plain": [
              "<matplotlib.axes._subplots.AxesSubplot at 0x7f4ac76a9350>"
            ]
          },
          "metadata": {
            "tags": []
          },
          "execution_count": 17
        },
        {
          "output_type": "display_data",
          "data": {
            "image/png": "[encoded data removed]",
            "text/plain": [
              "<Figure size 432x288 with 1 Axes>"
            ]
          },
          "metadata": {
            "tags": [],
            "needs_background": "light"
          }
        }
      ]
    },
    {
      "cell_type": "code",
      "metadata": {
        "colab": {
          "base_uri": "https://localhost:8080/",
          "height": 458
        },
        "id": "8ZyG8KuLetSX",
        "outputId": "93b86273-e172-4872-f17c-d4876711a522"
      },
      "source": [
        "sns.jointplot(y = df['Age'], x = df['Sex'], kind = 'scatter')"
      ],
      "execution_count": 18,
      "outputs": [
        {
          "output_type": "execute_result",
          "data": {
            "text/plain": [
              "<seaborn.axisgrid.JointGrid at 0x7f4ac7668410>"
            ]
          },
          "metadata": {
            "tags": []
          },
          "execution_count": 18
        },
        {
          "output_type": "display_data",
          "data": {
            "image/png": "[encoded data removed]",
            "text/plain": [
              "<Figure size 432x432 with 3 Axes>"
            ]
          },
          "metadata": {
            "tags": [],
            "needs_background": "light"
          }
        }
      ]
    },
    {
      "cell_type": "code",
      "metadata": {
        "colab": {
          "base_uri": "https://localhost:8080/",
          "height": 296
        },
        "id": "Js1FsgT2fR1X",
        "outputId": "a228c941-efd7-469d-f7f6-28f2bb391a35"
      },
      "source": [
        "sns.boxplot(y = df['Age'], x = df['Sex'])"
      ],
      "execution_count": 19,
      "outputs": [
        {
          "output_type": "execute_result",
          "data": {
            "text/plain": [
              "<matplotlib.axes._subplots.AxesSubplot at 0x7f4abed11550>"
            ]
          },
          "metadata": {
            "tags": []
          },
          "execution_count": 19
        },
        {
          "output_type": "display_data",
          "data": {
            "image/png": "[encoded data removed]",
            "text/plain": [
              "<Figure size 432x288 with 1 Axes>"
            ]
          },
          "metadata": {
            "tags": [],
            "needs_background": "light"
          }
        }
      ]
    },
    {
      "cell_type": "code",
      "metadata": {
        "colab": {
          "base_uri": "https://localhost:8080/",
          "height": 296
        },
        "id": "RW3vVJHUg4Kf",
        "outputId": "6cc80331-5e84-4aa7-b90e-f2d090830f77"
      },
      "source": [
        "sns.stripplot(y = df['Age'], x = df['Survived'])"
      ],
      "execution_count": 20,
      "outputs": [
        {
          "output_type": "execute_result",
          "data": {
            "text/plain": [
              "<matplotlib.axes._subplots.AxesSubplot at 0x7f4abec61750>"
            ]
          },
          "metadata": {
            "tags": []
          },
          "execution_count": 20
        },
        {
          "output_type": "display_data",
          "data": {
            "image/png": "[encoded data removed]",
            "text/plain": [
              "<Figure size 432x288 with 1 Axes>"
            ]
          },
          "metadata": {
            "tags": [],
            "needs_background": "light"
          }
        }
      ]
    },
    {
      "cell_type": "code",
      "metadata": {
        "colab": {
          "base_uri": "https://localhost:8080/",
          "height": 242
        },
        "id": "Pi7ZlOi3fl5f",
        "outputId": "e42853d6-fad0-41c5-f9b0-4406f1c8fd9e"
      },
      "source": [
        "g=sns.FacetGrid(df, col='Survived')\n",
        "g.map(plt.hist,'Age',bins= 5)"
      ],
      "execution_count": 21,
      "outputs": [
        {
          "output_type": "execute_result",
          "data": {
            "text/plain": [
              "<seaborn.axisgrid.FacetGrid at 0x7f4abebf8ed0>"
            ]
          },
          "metadata": {
            "tags": []
          },
          "execution_count": 21
        },
        {
          "output_type": "display_data",
          "data": {
            "image/png": "[encoded data removed]",
            "text/plain": [
              "<Figure size 432x216 with 2 Axes>"
            ]
          },
          "metadata": {
            "tags": [],
            "needs_background": "light"
          }
        }
      ]
    },
    {
      "cell_type": "code",
      "metadata": {
        "colab": {
          "base_uri": "https://localhost:8080/",
          "height": 682
        },
        "id": "DCjx75ecDHwc",
        "outputId": "57514608-e04f-411b-fbe3-ee6af733f12e"
      },
      "source": [
        "sns.FacetGrid(df, col = 'Pclass', row = 'Sex').map(sns.distplot, 'Age')"
      ],
      "execution_count": 22,
      "outputs": [
        {
          "output_type": "stream",
          "text": [
            "/usr/local/lib/python3.7/dist-packages/seaborn/distributions.py:2557: FutureWarning: `distplot` is a deprecated function and will be removed in a future version. Please adapt your code to use either `displot` (a figure-level function with similar flexibility) or `histplot` (an axes-level function for histograms).\n",
            "  warnings.warn(msg, FutureWarning)\n",
            "/usr/local/lib/python3.7/dist-packages/seaborn/distributions.py:2557: FutureWarning: `distplot` is a deprecated function and will be removed in a future version. Please adapt your code to use either `displot` (a figure-level function with similar flexibility) or `histplot` (an axes-level function for histograms).\n",
            "  warnings.warn(msg, FutureWarning)\n",
            "/usr/local/lib/python3.7/dist-packages/seaborn/distributions.py:2557: FutureWarning: `distplot` is a deprecated function and will be removed in a future version. Please adapt your code to use either `displot` (a figure-level function with similar flexibility) or `histplot` (an axes-level function for histograms).\n",
            "  warnings.warn(msg, FutureWarning)\n",
            "/usr/local/lib/python3.7/dist-packages/seaborn/distributions.py:2557: FutureWarning: `distplot` is a deprecated function and will be removed in a future version. Please adapt your code to use either `displot` (a figure-level function with similar flexibility) or `histplot` (an axes-level function for histograms).\n",
            "  warnings.warn(msg, FutureWarning)\n",
            "/usr/local/lib/python3.7/dist-packages/seaborn/distributions.py:2557: FutureWarning: `distplot` is a deprecated function and will be removed in a future version. Please adapt your code to use either `displot` (a figure-level function with similar flexibility) or `histplot` (an axes-level function for histograms).\n",
            "  warnings.warn(msg, FutureWarning)\n",
            "/usr/local/lib/python3.7/dist-packages/seaborn/distributions.py:2557: FutureWarning: `distplot` is a deprecated function and will be removed in a future version. Please adapt your code to use either `displot` (a figure-level function with similar flexibility) or `histplot` (an axes-level function for histograms).\n",
            "  warnings.warn(msg, FutureWarning)\n"
          ],
          "name": "stderr"
        },
        {
          "output_type": "execute_result",
          "data": {
            "text/plain": [
              "<seaborn.axisgrid.FacetGrid at 0x7f4abeba21d0>"
            ]
          },
          "metadata": {
            "tags": []
          },
          "execution_count": 22
        },
        {
          "output_type": "display_data",
          "data": {
            "image/png": "[encoded data removed]",
            "text/plain": [
              "<Figure size 648x432 with 6 Axes>"
            ]
          },
          "metadata": {
            "tags": [],
            "needs_background": "light"
          }
        }
      ]
    },
    {
      "cell_type": "code",
      "metadata": {
        "colab": {
          "base_uri": "https://localhost:8080/",
          "height": 242
        },
        "id": "N7_C5waXjRv5",
        "outputId": "bce4ec44-e8a6-4843-e87d-54d826509124"
      },
      "source": [
        "g1=sns.FacetGrid(df, col='Survived')\n",
        "g1.map(plt.hist, 'Sex', bins=5)"
      ],
      "execution_count": 23,
      "outputs": [
        {
          "output_type": "execute_result",
          "data": {
            "text/plain": [
              "<seaborn.axisgrid.FacetGrid at 0x7f4abe8b0110>"
            ]
          },
          "metadata": {
            "tags": []
          },
          "execution_count": 23
        },
        {
          "output_type": "display_data",
          "data": {
            "image/png": "[encoded data removed]",
            "text/plain": [
              "<Figure size 432x216 with 2 Axes>"
            ]
          },
          "metadata": {
            "tags": [],
            "needs_background": "light"
          }
        }
      ]
    },
    {
      "cell_type": "code",
      "metadata": {
        "colab": {
          "base_uri": "https://localhost:8080/",
          "height": 458
        },
        "id": "El1emm-ykZSu",
        "outputId": "7a306ee6-af13-47dd-95a9-90b1a56e8cc1"
      },
      "source": [
        "#correlation: survival and age\n",
        "sns.jointplot(x = df['Survived'], y = df['Age'], kind = 'scatter')"
      ],
      "execution_count": 24,
      "outputs": [
        {
          "output_type": "execute_result",
          "data": {
            "text/plain": [
              "<seaborn.axisgrid.JointGrid at 0x7f4abe6fd490>"
            ]
          },
          "metadata": {
            "tags": []
          },
          "execution_count": 24
        },
        {
          "output_type": "display_data",
          "data": {
            "image/png": "[encoded data removed]",
            "text/plain": [
              "<Figure size 432x432 with 3 Axes>"
            ]
          },
          "metadata": {
            "tags": [],
            "needs_background": "light"
          }
        }
      ]
    },
    {
      "cell_type": "code",
      "metadata": {
        "colab": {
          "base_uri": "https://localhost:8080/",
          "height": 242
        },
        "id": "LSB2gQ03li9b",
        "outputId": "e9d39be0-13c7-4729-dc19-81cc0ec9ca62"
      },
      "source": [
        "#correlation between sex and age\n",
        "g1=sns.FacetGrid(df, col='Sex')\n",
        "g1.map(plt.hist, 'Age', bins=10)"
      ],
      "execution_count": 25,
      "outputs": [
        {
          "output_type": "execute_result",
          "data": {
            "text/plain": [
              "<seaborn.axisgrid.FacetGrid at 0x7f4abe51ad50>"
            ]
          },
          "metadata": {
            "tags": []
          },
          "execution_count": 25
        },
        {
          "output_type": "display_data",
          "data": {
            "image/png": "[encoded data removed]",
            "text/plain": [
              "<Figure size 432x216 with 2 Axes>"
            ]
          },
          "metadata": {
            "tags": [],
            "needs_background": "light"
          }
        }
      ]
    },
    {
      "cell_type": "code",
      "metadata": {
        "colab": {
          "base_uri": "https://localhost:8080/",
          "height": 242
        },
        "id": "KA8804IDplgS",
        "outputId": "af5ca804-26d9-4f85-d1dc-9d78c34f417f"
      },
      "source": [
        "g1=sns.FacetGrid(df, col='Survived')\n",
        "g1.map(plt.hist, 'Pclass', bins=10)"
      ],
      "execution_count": 26,
      "outputs": [
        {
          "output_type": "execute_result",
          "data": {
            "text/plain": [
              "<seaborn.axisgrid.FacetGrid at 0x7f4abe51a610>"
            ]
          },
          "metadata": {
            "tags": []
          },
          "execution_count": 26
        },
        {
          "output_type": "display_data",
          "data": {
            "image/png": "[encoded data removed]",
            "text/plain": [
              "<Figure size 432x216 with 2 Axes>"
            ]
          },
          "metadata": {
            "tags": [],
            "needs_background": "light"
          }
        }
      ]
    },
    {
      "cell_type": "code",
      "metadata": {
        "colab": {
          "base_uri": "https://localhost:8080/",
          "height": 242
        },
        "id": "PKg2b-2CuPQs",
        "outputId": "a8b6464b-761c-41a5-a011-cdec2c28d5e0"
      },
      "source": [
        "g1=sns.FacetGrid(df, col='Survived')\n",
        "g1.map(plt.hist, 'Fare', bins=5)"
      ],
      "execution_count": 27,
      "outputs": [
        {
          "output_type": "execute_result",
          "data": {
            "text/plain": [
              "<seaborn.axisgrid.FacetGrid at 0x7f4abe3937d0>"
            ]
          },
          "metadata": {
            "tags": []
          },
          "execution_count": 27
        },
        {
          "output_type": "display_data",
          "data": {
            "image/png": "[encoded data removed]",
            "text/plain": [
              "<Figure size 432x216 with 2 Axes>"
            ]
          },
          "metadata": {
            "tags": [],
            "needs_background": "light"
          }
        }
      ]
    },
    {
      "cell_type": "code",
      "metadata": {
        "id": "uNufc_I4vMXd"
      },
      "source": [
        "def plot_correlation_map( df ):\n",
        "\n",
        "    corr = df.corr()\n",
        "\n",
        "    s , ax = plt.subplots( figsize =( 12 , 10 ) )\n",
        "\n",
        "    cmap = sns.diverging_palette( 220 , 10 , as_cmap = True )\n",
        "\n",
        "    s = sns.heatmap(\n",
        "\n",
        "        corr, \n",
        "\n",
        "        cmap = cmap,\n",
        "\n",
        "        square=True, \n",
        "\n",
        "        cbar_kws={ 'shrink' : .9 }, \n",
        "\n",
        "        ax=ax, \n",
        "\n",
        "        annot = True, \n",
        "\n",
        "        annot_kws = { 'fontsize' : 12 }\n",
        "\n",
        "        )"
      ],
      "execution_count": 28,
      "outputs": []
    },
    {
      "cell_type": "code",
      "metadata": {
        "colab": {
          "base_uri": "https://localhost:8080/",
          "height": 584
        },
        "id": "M5aHSF2xv6Vi",
        "outputId": "feab1666-b42d-4fee-ef0a-c882798fc7ce"
      },
      "source": [
        "plot_correlation_map(df)"
      ],
      "execution_count": 29,
      "outputs": [
        {
          "output_type": "display_data",
          "data": {
            "image/png": "[encoded data removed]",
            "text/plain": [
              "<Figure size 864x720 with 2 Axes>"
            ]
          },
          "metadata": {
            "tags": [],
            "needs_background": "light"
          }
        }
      ]
    },
    {
      "cell_type": "markdown",
      "metadata": {
        "id": "ZIGMdASPy7Vv"
      },
      "source": [
        "it seems to be a correlation matrix between the seven numerical values present in our dataset. the matrix is articulating information through color intensity, making it easier to read. The color degradation depends on the relation of two features. For example, if we look at the intersection between the columns  “Parch”  and  “Sibsp”, almost the half of passengers were related and they were traveling with a family number.We can use this matrix to explore and define all related features."
      ]
    },
    {
      "cell_type": "code",
      "metadata": {
        "id": "6juqDVXTy6qK"
      },
      "source": [
        "from sklearn.preprocessing import LabelEncoder\n",
        "encoder=LabelEncoder()\n",
        "df['Survived']=encoder.fit_transform(df['Survived'])"
      ],
      "execution_count": 30,
      "outputs": []
    },
    {
      "cell_type": "code",
      "metadata": {
        "colab": {
          "base_uri": "https://localhost:8080/",
          "height": 173
        },
        "id": "WnXrwsYd2x6z",
        "outputId": "be8383a9-ba23-43e5-d07d-9e9555c1b7f3"
      },
      "source": [
        "df.groupby(['Pclass']).mean()"
      ],
      "execution_count": 31,
      "outputs": [
        {
          "output_type": "execute_result",
          "data": {
            "text/html": [
              "<div>\n",
              "<style scoped>\n",
              "    .dataframe tbody tr th:only-of-type {\n",
              "        vertical-align: middle;\n",
              "    }\n",
              "\n",
              "    .dataframe tbody tr th {\n",
              "        vertical-align: top;\n",
              "    }\n",
              "\n",
              "    .dataframe thead th {\n",
              "        text-align: right;\n",
              "    }\n",
              "</style>\n",
              "<table border=\"1\" class=\"dataframe\">\n",
              "  <thead>\n",
              "    <tr style=\"text-align: right;\">\n",
              "      <th></th>\n",
              "      <th>PassengerId</th>\n",
              "      <th>Survived</th>\n",
              "      <th>Age</th>\n",
              "      <th>SibSp</th>\n",
              "      <th>Parch</th>\n",
              "      <th>Fare</th>\n",
              "    </tr>\n",
              "    <tr>\n",
              "      <th>Pclass</th>\n",
              "      <th></th>\n",
              "      <th></th>\n",
              "      <th></th>\n",
              "      <th></th>\n",
              "      <th></th>\n",
              "      <th></th>\n",
              "    </tr>\n",
              "  </thead>\n",
              "  <tbody>\n",
              "    <tr>\n",
              "      <th>1</th>\n",
              "      <td>461.742991</td>\n",
              "      <td>0.626168</td>\n",
              "      <td>36.688879</td>\n",
              "      <td>0.420561</td>\n",
              "      <td>0.359813</td>\n",
              "      <td>84.193516</td>\n",
              "    </tr>\n",
              "    <tr>\n",
              "      <th>2</th>\n",
              "      <td>445.956522</td>\n",
              "      <td>0.472826</td>\n",
              "      <td>29.765380</td>\n",
              "      <td>0.402174</td>\n",
              "      <td>0.380435</td>\n",
              "      <td>20.662183</td>\n",
              "    </tr>\n",
              "    <tr>\n",
              "      <th>3</th>\n",
              "      <td>439.154786</td>\n",
              "      <td>0.242363</td>\n",
              "      <td>25.932627</td>\n",
              "      <td>0.615071</td>\n",
              "      <td>0.393075</td>\n",
              "      <td>13.675550</td>\n",
              "    </tr>\n",
              "  </tbody>\n",
              "</table>\n",
              "</div>"
            ],
            "text/plain": [
              "        PassengerId  Survived        Age     SibSp     Parch       Fare\n",
              "Pclass                                                                 \n",
              "1        461.742991  0.626168  36.688879  0.420561  0.359813  84.193516\n",
              "2        445.956522  0.472826  29.765380  0.402174  0.380435  20.662183\n",
              "3        439.154786  0.242363  25.932627  0.615071  0.393075  13.675550"
            ]
          },
          "metadata": {
            "tags": []
          },
          "execution_count": 31
        }
      ]
    },
    {
      "cell_type": "code",
      "metadata": {
        "id": "N2tBIYjS7MxO"
      },
      "source": [
        "df_without_names= df.drop(axis=1, columns=['Name'], inplace= False)"
      ],
      "execution_count": 32,
      "outputs": []
    },
    {
      "cell_type": "code",
      "metadata": {
        "id": "tHkA6T8g7zEh"
      },
      "source": [
        "def extraction(chain):\n",
        "  chain1=str(chain)\n",
        "  ch= chain1.split(\",\")\n",
        "  d=ch[1]\n",
        "  d1=d.split(\".\")\n",
        "  title=d1[0]\n",
        "  return (title)\n",
        "  \n",
        "\n"
      ],
      "execution_count": 33,
      "outputs": []
    },
    {
      "cell_type": "code",
      "metadata": {
        "colab": {
          "base_uri": "https://localhost:8080/",
          "height": 35
        },
        "id": "y9HfwKetc389",
        "outputId": "465295e6-52d9-4633-8e53-5ea2386c9aae"
      },
      "source": [
        "extraction(\"Cacic, Miss. Marija\")"
      ],
      "execution_count": 34,
      "outputs": [
        {
          "output_type": "execute_result",
          "data": {
            "application/vnd.google.colaboratory.intrinsic+json": {
              "type": "string"
            },
            "text/plain": [
              "' Miss'"
            ]
          },
          "metadata": {
            "tags": []
          },
          "execution_count": 34
        }
      ]
    },
    {
      "cell_type": "code",
      "metadata": {
        "id": "6QBaO3jG_Nby"
      },
      "source": [
        "title= df['Name'].apply(extraction)"
      ],
      "execution_count": 35,
      "outputs": []
    },
    {
      "cell_type": "code",
      "metadata": {
        "colab": {
          "base_uri": "https://localhost:8080/"
        },
        "id": "sdJXDYSWnr1c",
        "outputId": "28054e10-74c4-4875-9014-cc8b3e34fac7"
      },
      "source": [
        "title"
      ],
      "execution_count": 36,
      "outputs": [
        {
          "output_type": "execute_result",
          "data": {
            "text/plain": [
              "0         Mr\n",
              "1         Mr\n",
              "2         Mr\n",
              "3        Mrs\n",
              "4         Mr\n",
              "       ...  \n",
              "886      Mrs\n",
              "887       Mr\n",
              "888     Miss\n",
              "889       Mr\n",
              "890     Miss\n",
              "Name: Name, Length: 889, dtype: object"
            ]
          },
          "metadata": {
            "tags": []
          },
          "execution_count": 36
        }
      ]
    },
    {
      "cell_type": "code",
      "metadata": {
        "id": "qnd32rhVkATk"
      },
      "source": [
        "df['title']=title"
      ],
      "execution_count": 37,
      "outputs": []
    },
    {
      "cell_type": "code",
      "metadata": {
        "colab": {
          "base_uri": "https://localhost:8080/",
          "height": 419
        },
        "id": "sPCQwhbzCUTU",
        "outputId": "cfcfa79f-301f-445f-be0b-3e7b82f1ec83"
      },
      "source": [
        "df"
      ],
      "execution_count": 38,
      "outputs": [
        {
          "output_type": "execute_result",
          "data": {
            "text/html": [
              "<div>\n",
              "<style scoped>\n",
              "    .dataframe tbody tr th:only-of-type {\n",
              "        vertical-align: middle;\n",
              "    }\n",
              "\n",
              "    .dataframe tbody tr th {\n",
              "        vertical-align: top;\n",
              "    }\n",
              "\n",
              "    .dataframe thead th {\n",
              "        text-align: right;\n",
              "    }\n",
              "</style>\n",
              "<table border=\"1\" class=\"dataframe\">\n",
              "  <thead>\n",
              "    <tr style=\"text-align: right;\">\n",
              "      <th></th>\n",
              "      <th>PassengerId</th>\n",
              "      <th>Survived</th>\n",
              "      <th>Pclass</th>\n",
              "      <th>Name</th>\n",
              "      <th>Sex</th>\n",
              "      <th>Age</th>\n",
              "      <th>SibSp</th>\n",
              "      <th>Parch</th>\n",
              "      <th>Ticket</th>\n",
              "      <th>Fare</th>\n",
              "      <th>Embarked</th>\n",
              "      <th>title</th>\n",
              "    </tr>\n",
              "  </thead>\n",
              "  <tbody>\n",
              "    <tr>\n",
              "      <th>0</th>\n",
              "      <td>343</td>\n",
              "      <td>0</td>\n",
              "      <td>2</td>\n",
              "      <td>Collander, Mr. Erik Gustaf</td>\n",
              "      <td>male</td>\n",
              "      <td>28.0</td>\n",
              "      <td>0</td>\n",
              "      <td>0</td>\n",
              "      <td>248740</td>\n",
              "      <td>13.0000</td>\n",
              "      <td>S</td>\n",
              "      <td>Mr</td>\n",
              "    </tr>\n",
              "    <tr>\n",
              "      <th>1</th>\n",
              "      <td>76</td>\n",
              "      <td>0</td>\n",
              "      <td>3</td>\n",
              "      <td>Moen, Mr. Sigurd Hansen</td>\n",
              "      <td>male</td>\n",
              "      <td>25.0</td>\n",
              "      <td>0</td>\n",
              "      <td>0</td>\n",
              "      <td>348123</td>\n",
              "      <td>7.6500</td>\n",
              "      <td>S</td>\n",
              "      <td>Mr</td>\n",
              "    </tr>\n",
              "    <tr>\n",
              "      <th>2</th>\n",
              "      <td>641</td>\n",
              "      <td>0</td>\n",
              "      <td>3</td>\n",
              "      <td>Jensen, Mr. Hans Peder</td>\n",
              "      <td>male</td>\n",
              "      <td>20.0</td>\n",
              "      <td>0</td>\n",
              "      <td>0</td>\n",
              "      <td>350050</td>\n",
              "      <td>7.8542</td>\n",
              "      <td>S</td>\n",
              "      <td>Mr</td>\n",
              "    </tr>\n",
              "    <tr>\n",
              "      <th>3</th>\n",
              "      <td>568</td>\n",
              "      <td>0</td>\n",
              "      <td>3</td>\n",
              "      <td>Palsson, Mrs. Nils (Alma Cornelia Berglund)</td>\n",
              "      <td>female</td>\n",
              "      <td>29.0</td>\n",
              "      <td>0</td>\n",
              "      <td>4</td>\n",
              "      <td>349909</td>\n",
              "      <td>21.0750</td>\n",
              "      <td>S</td>\n",
              "      <td>Mrs</td>\n",
              "    </tr>\n",
              "    <tr>\n",
              "      <th>4</th>\n",
              "      <td>672</td>\n",
              "      <td>0</td>\n",
              "      <td>1</td>\n",
              "      <td>Davidson, Mr. Thornton</td>\n",
              "      <td>male</td>\n",
              "      <td>31.0</td>\n",
              "      <td>1</td>\n",
              "      <td>0</td>\n",
              "      <td>F.C. 12750</td>\n",
              "      <td>52.0000</td>\n",
              "      <td>S</td>\n",
              "      <td>Mr</td>\n",
              "    </tr>\n",
              "    <tr>\n",
              "      <th>...</th>\n",
              "      <td>...</td>\n",
              "      <td>...</td>\n",
              "      <td>...</td>\n",
              "      <td>...</td>\n",
              "      <td>...</td>\n",
              "      <td>...</td>\n",
              "      <td>...</td>\n",
              "      <td>...</td>\n",
              "      <td>...</td>\n",
              "      <td>...</td>\n",
              "      <td>...</td>\n",
              "      <td>...</td>\n",
              "    </tr>\n",
              "    <tr>\n",
              "      <th>886</th>\n",
              "      <td>10</td>\n",
              "      <td>1</td>\n",
              "      <td>2</td>\n",
              "      <td>Nasser, Mrs. Nicholas (Adele Achem)</td>\n",
              "      <td>female</td>\n",
              "      <td>14.0</td>\n",
              "      <td>1</td>\n",
              "      <td>0</td>\n",
              "      <td>237736</td>\n",
              "      <td>30.0708</td>\n",
              "      <td>C</td>\n",
              "      <td>Mrs</td>\n",
              "    </tr>\n",
              "    <tr>\n",
              "      <th>887</th>\n",
              "      <td>61</td>\n",
              "      <td>0</td>\n",
              "      <td>3</td>\n",
              "      <td>Sirayanian, Mr. Orsen</td>\n",
              "      <td>male</td>\n",
              "      <td>22.0</td>\n",
              "      <td>0</td>\n",
              "      <td>0</td>\n",
              "      <td>2669</td>\n",
              "      <td>7.2292</td>\n",
              "      <td>C</td>\n",
              "      <td>Mr</td>\n",
              "    </tr>\n",
              "    <tr>\n",
              "      <th>888</th>\n",
              "      <td>535</td>\n",
              "      <td>0</td>\n",
              "      <td>3</td>\n",
              "      <td>Cacic, Miss. Marija</td>\n",
              "      <td>female</td>\n",
              "      <td>30.0</td>\n",
              "      <td>0</td>\n",
              "      <td>0</td>\n",
              "      <td>315084</td>\n",
              "      <td>8.6625</td>\n",
              "      <td>S</td>\n",
              "      <td>Miss</td>\n",
              "    </tr>\n",
              "    <tr>\n",
              "      <th>889</th>\n",
              "      <td>102</td>\n",
              "      <td>0</td>\n",
              "      <td>3</td>\n",
              "      <td>Petroff, Mr. Pastcho (\"Pentcho\")</td>\n",
              "      <td>male</td>\n",
              "      <td>28.0</td>\n",
              "      <td>0</td>\n",
              "      <td>0</td>\n",
              "      <td>349215</td>\n",
              "      <td>7.8958</td>\n",
              "      <td>S</td>\n",
              "      <td>Mr</td>\n",
              "    </tr>\n",
              "    <tr>\n",
              "      <th>890</th>\n",
              "      <td>428</td>\n",
              "      <td>1</td>\n",
              "      <td>2</td>\n",
              "      <td>Phillips, Miss. Kate Florence (\"Mrs Kate Louis...</td>\n",
              "      <td>female</td>\n",
              "      <td>19.0</td>\n",
              "      <td>0</td>\n",
              "      <td>0</td>\n",
              "      <td>250655</td>\n",
              "      <td>26.0000</td>\n",
              "      <td>S</td>\n",
              "      <td>Miss</td>\n",
              "    </tr>\n",
              "  </tbody>\n",
              "</table>\n",
              "<p>889 rows × 12 columns</p>\n",
              "</div>"
            ],
            "text/plain": [
              "     PassengerId  Survived  Pclass  ...     Fare Embarked  title\n",
              "0            343         0       2  ...  13.0000        S     Mr\n",
              "1             76         0       3  ...   7.6500        S     Mr\n",
              "2            641         0       3  ...   7.8542        S     Mr\n",
              "3            568         0       3  ...  21.0750        S    Mrs\n",
              "4            672         0       1  ...  52.0000        S     Mr\n",
              "..           ...       ...     ...  ...      ...      ...    ...\n",
              "886           10         1       2  ...  30.0708        C    Mrs\n",
              "887           61         0       3  ...   7.2292        C     Mr\n",
              "888          535         0       3  ...   8.6625        S   Miss\n",
              "889          102         0       3  ...   7.8958        S     Mr\n",
              "890          428         1       2  ...  26.0000        S   Miss\n",
              "\n",
              "[889 rows x 12 columns]"
            ]
          },
          "metadata": {
            "tags": []
          },
          "execution_count": 38
        }
      ]
    },
    {
      "cell_type": "code",
      "metadata": {
        "colab": {
          "base_uri": "https://localhost:8080/",
          "height": 397
        },
        "id": "o4tzQvFzpFTw",
        "outputId": "4532afdf-c46c-4a57-e92b-b3f69bb6b3fa"
      },
      "source": [
        "grid= sns.FacetGrid(df, row='Survived', col='Sex', height=2.2, aspect=1.6)\n",
        "grid.map(sns.barplot, 'Age', 'title', alpha=0.5,ci=None)\n",
        "grid.add_legend()"
      ],
      "execution_count": 39,
      "outputs": [
        {
          "output_type": "stream",
          "text": [
            "/usr/local/lib/python3.7/dist-packages/seaborn/axisgrid.py:643: UserWarning: Using the barplot function without specifying `order` is likely to produce an incorrect plot.\n",
            "  warnings.warn(warning)\n"
          ],
          "name": "stderr"
        },
        {
          "output_type": "execute_result",
          "data": {
            "text/plain": [
              "<seaborn.axisgrid.FacetGrid at 0x7f4abce34510>"
            ]
          },
          "metadata": {
            "tags": []
          },
          "execution_count": 39
        },
        {
          "output_type": "display_data",
          "data": {
            "image/png": "[encoded data removed]",
            "text/plain": [
              "<Figure size 514.88x316.8 with 4 Axes>"
            ]
          },
          "metadata": {
            "tags": [],
            "needs_background": "light"
          }
        }
      ]
    },
    {
      "cell_type": "code",
      "metadata": {
        "id": "OSNL9yrLphFT"
      },
      "source": [
        ""
      ],
      "execution_count": 39,
      "outputs": []
    },
    {
      "cell_type": "code",
      "metadata": {
        "id": "6QTPfL3CaEuK",
        "colab": {
          "base_uri": "https://localhost:8080/",
          "height": 419
        },
        "outputId": "266f12a5-f29b-4549-98d5-e0b87e7a9d1c"
      },
      "source": [
        "Title_Dictionary = {\n",
        "\n",
        "                    \"Capt\":\"Officer\",\n",
        "\n",
        "                    \"Col\":\"Officer\",\n",
        "\n",
        "                    \"Major\":\"Officer\",\n",
        "\n",
        "                      \"Dr\":\"Officer\",\n",
        "\n",
        "                    \"Rev\":\"Officer\",\n",
        "\n",
        "                    \"Jonkheer\":\"Royalty\",\n",
        "\n",
        "                    \"Don\":\"Royalty\",\n",
        "\n",
        "                    \"Sir\" :\"Royalty\",\n",
        "\n",
        "                   \"Lady\" :\"Royalty\",\n",
        "\n",
        "                  \"the Countess\":\"Royalty\",\n",
        "\n",
        "                    \"Dona\":\"Royalty\",\n",
        "\n",
        "                    \"Mme\":\"Miss\",\n",
        "\n",
        "                    \"Mlle\":\"Miss\",\n",
        "\n",
        "                    \"Miss\" :\"Miss\",\n",
        "\n",
        "                    \"Ms\":\"Mrs\",\n",
        "\n",
        "                    \"Mr\" :\"Mrs\",\n",
        "\n",
        "                    \"Mrs\" :\"Mrs\",\n",
        "\n",
        "                    \"Master\" :\"Master\"\n",
        "\n",
        "                    }\n",
        "df['title']=df['title'].str.strip()\n",
        "df[\"title\"].replace(Title_Dictionary, inplace=True)\n",
        "df"
      ],
      "execution_count": 40,
      "outputs": [
        {
          "output_type": "execute_result",
          "data": {
            "text/html": [
              "<div>\n",
              "<style scoped>\n",
              "    .dataframe tbody tr th:only-of-type {\n",
              "        vertical-align: middle;\n",
              "    }\n",
              "\n",
              "    .dataframe tbody tr th {\n",
              "        vertical-align: top;\n",
              "    }\n",
              "\n",
              "    .dataframe thead th {\n",
              "        text-align: right;\n",
              "    }\n",
              "</style>\n",
              "<table border=\"1\" class=\"dataframe\">\n",
              "  <thead>\n",
              "    <tr style=\"text-align: right;\">\n",
              "      <th></th>\n",
              "      <th>PassengerId</th>\n",
              "      <th>Survived</th>\n",
              "      <th>Pclass</th>\n",
              "      <th>Name</th>\n",
              "      <th>Sex</th>\n",
              "      <th>Age</th>\n",
              "      <th>SibSp</th>\n",
              "      <th>Parch</th>\n",
              "      <th>Ticket</th>\n",
              "      <th>Fare</th>\n",
              "      <th>Embarked</th>\n",
              "      <th>title</th>\n",
              "    </tr>\n",
              "  </thead>\n",
              "  <tbody>\n",
              "    <tr>\n",
              "      <th>0</th>\n",
              "      <td>343</td>\n",
              "      <td>0</td>\n",
              "      <td>2</td>\n",
              "      <td>Collander, Mr. Erik Gustaf</td>\n",
              "      <td>male</td>\n",
              "      <td>28.0</td>\n",
              "      <td>0</td>\n",
              "      <td>0</td>\n",
              "      <td>248740</td>\n",
              "      <td>13.0000</td>\n",
              "      <td>S</td>\n",
              "      <td>Mrs</td>\n",
              "    </tr>\n",
              "    <tr>\n",
              "      <th>1</th>\n",
              "      <td>76</td>\n",
              "      <td>0</td>\n",
              "      <td>3</td>\n",
              "      <td>Moen, Mr. Sigurd Hansen</td>\n",
              "      <td>male</td>\n",
              "      <td>25.0</td>\n",
              "      <td>0</td>\n",
              "      <td>0</td>\n",
              "      <td>348123</td>\n",
              "      <td>7.6500</td>\n",
              "      <td>S</td>\n",
              "      <td>Mrs</td>\n",
              "    </tr>\n",
              "    <tr>\n",
              "      <th>2</th>\n",
              "      <td>641</td>\n",
              "      <td>0</td>\n",
              "      <td>3</td>\n",
              "      <td>Jensen, Mr. Hans Peder</td>\n",
              "      <td>male</td>\n",
              "      <td>20.0</td>\n",
              "      <td>0</td>\n",
              "      <td>0</td>\n",
              "      <td>350050</td>\n",
              "      <td>7.8542</td>\n",
              "      <td>S</td>\n",
              "      <td>Mrs</td>\n",
              "    </tr>\n",
              "    <tr>\n",
              "      <th>3</th>\n",
              "      <td>568</td>\n",
              "      <td>0</td>\n",
              "      <td>3</td>\n",
              "      <td>Palsson, Mrs. Nils (Alma Cornelia Berglund)</td>\n",
              "      <td>female</td>\n",
              "      <td>29.0</td>\n",
              "      <td>0</td>\n",
              "      <td>4</td>\n",
              "      <td>349909</td>\n",
              "      <td>21.0750</td>\n",
              "      <td>S</td>\n",
              "      <td>Mrs</td>\n",
              "    </tr>\n",
              "    <tr>\n",
              "      <th>4</th>\n",
              "      <td>672</td>\n",
              "      <td>0</td>\n",
              "      <td>1</td>\n",
              "      <td>Davidson, Mr. Thornton</td>\n",
              "      <td>male</td>\n",
              "      <td>31.0</td>\n",
              "      <td>1</td>\n",
              "      <td>0</td>\n",
              "      <td>F.C. 12750</td>\n",
              "      <td>52.0000</td>\n",
              "      <td>S</td>\n",
              "      <td>Mrs</td>\n",
              "    </tr>\n",
              "    <tr>\n",
              "      <th>...</th>\n",
              "      <td>...</td>\n",
              "      <td>...</td>\n",
              "      <td>...</td>\n",
              "      <td>...</td>\n",
              "      <td>...</td>\n",
              "      <td>...</td>\n",
              "      <td>...</td>\n",
              "      <td>...</td>\n",
              "      <td>...</td>\n",
              "      <td>...</td>\n",
              "      <td>...</td>\n",
              "      <td>...</td>\n",
              "    </tr>\n",
              "    <tr>\n",
              "      <th>886</th>\n",
              "      <td>10</td>\n",
              "      <td>1</td>\n",
              "      <td>2</td>\n",
              "      <td>Nasser, Mrs. Nicholas (Adele Achem)</td>\n",
              "      <td>female</td>\n",
              "      <td>14.0</td>\n",
              "      <td>1</td>\n",
              "      <td>0</td>\n",
              "      <td>237736</td>\n",
              "      <td>30.0708</td>\n",
              "      <td>C</td>\n",
              "      <td>Mrs</td>\n",
              "    </tr>\n",
              "    <tr>\n",
              "      <th>887</th>\n",
              "      <td>61</td>\n",
              "      <td>0</td>\n",
              "      <td>3</td>\n",
              "      <td>Sirayanian, Mr. Orsen</td>\n",
              "      <td>male</td>\n",
              "      <td>22.0</td>\n",
              "      <td>0</td>\n",
              "      <td>0</td>\n",
              "      <td>2669</td>\n",
              "      <td>7.2292</td>\n",
              "      <td>C</td>\n",
              "      <td>Mrs</td>\n",
              "    </tr>\n",
              "    <tr>\n",
              "      <th>888</th>\n",
              "      <td>535</td>\n",
              "      <td>0</td>\n",
              "      <td>3</td>\n",
              "      <td>Cacic, Miss. Marija</td>\n",
              "      <td>female</td>\n",
              "      <td>30.0</td>\n",
              "      <td>0</td>\n",
              "      <td>0</td>\n",
              "      <td>315084</td>\n",
              "      <td>8.6625</td>\n",
              "      <td>S</td>\n",
              "      <td>Miss</td>\n",
              "    </tr>\n",
              "    <tr>\n",
              "      <th>889</th>\n",
              "      <td>102</td>\n",
              "      <td>0</td>\n",
              "      <td>3</td>\n",
              "      <td>Petroff, Mr. Pastcho (\"Pentcho\")</td>\n",
              "      <td>male</td>\n",
              "      <td>28.0</td>\n",
              "      <td>0</td>\n",
              "      <td>0</td>\n",
              "      <td>349215</td>\n",
              "      <td>7.8958</td>\n",
              "      <td>S</td>\n",
              "      <td>Mrs</td>\n",
              "    </tr>\n",
              "    <tr>\n",
              "      <th>890</th>\n",
              "      <td>428</td>\n",
              "      <td>1</td>\n",
              "      <td>2</td>\n",
              "      <td>Phillips, Miss. Kate Florence (\"Mrs Kate Louis...</td>\n",
              "      <td>female</td>\n",
              "      <td>19.0</td>\n",
              "      <td>0</td>\n",
              "      <td>0</td>\n",
              "      <td>250655</td>\n",
              "      <td>26.0000</td>\n",
              "      <td>S</td>\n",
              "      <td>Miss</td>\n",
              "    </tr>\n",
              "  </tbody>\n",
              "</table>\n",
              "<p>889 rows × 12 columns</p>\n",
              "</div>"
            ],
            "text/plain": [
              "     PassengerId  Survived  Pclass  ...     Fare Embarked  title\n",
              "0            343         0       2  ...  13.0000        S    Mrs\n",
              "1             76         0       3  ...   7.6500        S    Mrs\n",
              "2            641         0       3  ...   7.8542        S    Mrs\n",
              "3            568         0       3  ...  21.0750        S    Mrs\n",
              "4            672         0       1  ...  52.0000        S    Mrs\n",
              "..           ...       ...     ...  ...      ...      ...    ...\n",
              "886           10         1       2  ...  30.0708        C    Mrs\n",
              "887           61         0       3  ...   7.2292        C    Mrs\n",
              "888          535         0       3  ...   8.6625        S   Miss\n",
              "889          102         0       3  ...   7.8958        S    Mrs\n",
              "890          428         1       2  ...  26.0000        S   Miss\n",
              "\n",
              "[889 rows x 12 columns]"
            ]
          },
          "metadata": {
            "tags": []
          },
          "execution_count": 40
        }
      ]
    },
    {
      "cell_type": "code",
      "metadata": {
        "colab": {
          "base_uri": "https://localhost:8080/",
          "height": 397
        },
        "id": "6Qaeb0nPp8FP",
        "outputId": "6c6d4e1a-ee87-4063-fe50-30ca1a41a97a"
      },
      "source": [
        "grid= sns.FacetGrid(df, row='Survived', col='Sex', height=2.2, aspect=1.6)\n",
        "grid.map(sns.barplot, 'title', 'Age', alpha=0.5,ci=None)\n",
        "grid.add_legend()"
      ],
      "execution_count": 41,
      "outputs": [
        {
          "output_type": "stream",
          "text": [
            "/usr/local/lib/python3.7/dist-packages/seaborn/axisgrid.py:643: UserWarning: Using the barplot function without specifying `order` is likely to produce an incorrect plot.\n",
            "  warnings.warn(warning)\n"
          ],
          "name": "stderr"
        },
        {
          "output_type": "execute_result",
          "data": {
            "text/plain": [
              "<seaborn.axisgrid.FacetGrid at 0x7f4abce347d0>"
            ]
          },
          "metadata": {
            "tags": []
          },
          "execution_count": 41
        },
        {
          "output_type": "display_data",
          "data": {
            "image/png": "[encoded data removed]",
            "text/plain": [
              "<Figure size 514.88x316.8 with 4 Axes>"
            ]
          },
          "metadata": {
            "tags": [],
            "needs_background": "light"
          }
        }
      ]
    },
    {
      "cell_type": "code",
      "metadata": {
        "colab": {
          "base_uri": "https://localhost:8080/",
          "height": 419
        },
        "id": "4KPm02kaqPf5",
        "outputId": "08a6421b-3d20-43ba-f795-e0e5451258e3"
      },
      "source": [
        "df['Familiysize'] = df['SibSp'] + df['Parch']\n",
        "df"
      ],
      "execution_count": 42,
      "outputs": [
        {
          "output_type": "execute_result",
          "data": {
            "text/html": [
              "<div>\n",
              "<style scoped>\n",
              "    .dataframe tbody tr th:only-of-type {\n",
              "        vertical-align: middle;\n",
              "    }\n",
              "\n",
              "    .dataframe tbody tr th {\n",
              "        vertical-align: top;\n",
              "    }\n",
              "\n",
              "    .dataframe thead th {\n",
              "        text-align: right;\n",
              "    }\n",
              "</style>\n",
              "<table border=\"1\" class=\"dataframe\">\n",
              "  <thead>\n",
              "    <tr style=\"text-align: right;\">\n",
              "      <th></th>\n",
              "      <th>PassengerId</th>\n",
              "      <th>Survived</th>\n",
              "      <th>Pclass</th>\n",
              "      <th>Name</th>\n",
              "      <th>Sex</th>\n",
              "      <th>Age</th>\n",
              "      <th>SibSp</th>\n",
              "      <th>Parch</th>\n",
              "      <th>Ticket</th>\n",
              "      <th>Fare</th>\n",
              "      <th>Embarked</th>\n",
              "      <th>title</th>\n",
              "      <th>Familiysize</th>\n",
              "    </tr>\n",
              "  </thead>\n",
              "  <tbody>\n",
              "    <tr>\n",
              "      <th>0</th>\n",
              "      <td>343</td>\n",
              "      <td>0</td>\n",
              "      <td>2</td>\n",
              "      <td>Collander, Mr. Erik Gustaf</td>\n",
              "      <td>male</td>\n",
              "      <td>28.0</td>\n",
              "      <td>0</td>\n",
              "      <td>0</td>\n",
              "      <td>248740</td>\n",
              "      <td>13.0000</td>\n",
              "      <td>S</td>\n",
              "      <td>Mrs</td>\n",
              "      <td>0</td>\n",
              "    </tr>\n",
              "    <tr>\n",
              "      <th>1</th>\n",
              "      <td>76</td>\n",
              "      <td>0</td>\n",
              "      <td>3</td>\n",
              "      <td>Moen, Mr. Sigurd Hansen</td>\n",
              "      <td>male</td>\n",
              "      <td>25.0</td>\n",
              "      <td>0</td>\n",
              "      <td>0</td>\n",
              "      <td>348123</td>\n",
              "      <td>7.6500</td>\n",
              "      <td>S</td>\n",
              "      <td>Mrs</td>\n",
              "      <td>0</td>\n",
              "    </tr>\n",
              "    <tr>\n",
              "      <th>2</th>\n",
              "      <td>641</td>\n",
              "      <td>0</td>\n",
              "      <td>3</td>\n",
              "      <td>Jensen, Mr. Hans Peder</td>\n",
              "      <td>male</td>\n",
              "      <td>20.0</td>\n",
              "      <td>0</td>\n",
              "      <td>0</td>\n",
              "      <td>350050</td>\n",
              "      <td>7.8542</td>\n",
              "      <td>S</td>\n",
              "      <td>Mrs</td>\n",
              "      <td>0</td>\n",
              "    </tr>\n",
              "    <tr>\n",
              "      <th>3</th>\n",
              "      <td>568</td>\n",
              "      <td>0</td>\n",
              "      <td>3</td>\n",
              "      <td>Palsson, Mrs. Nils (Alma Cornelia Berglund)</td>\n",
              "      <td>female</td>\n",
              "      <td>29.0</td>\n",
              "      <td>0</td>\n",
              "      <td>4</td>\n",
              "      <td>349909</td>\n",
              "      <td>21.0750</td>\n",
              "      <td>S</td>\n",
              "      <td>Mrs</td>\n",
              "      <td>4</td>\n",
              "    </tr>\n",
              "    <tr>\n",
              "      <th>4</th>\n",
              "      <td>672</td>\n",
              "      <td>0</td>\n",
              "      <td>1</td>\n",
              "      <td>Davidson, Mr. Thornton</td>\n",
              "      <td>male</td>\n",
              "      <td>31.0</td>\n",
              "      <td>1</td>\n",
              "      <td>0</td>\n",
              "      <td>F.C. 12750</td>\n",
              "      <td>52.0000</td>\n",
              "      <td>S</td>\n",
              "      <td>Mrs</td>\n",
              "      <td>1</td>\n",
              "    </tr>\n",
              "    <tr>\n",
              "      <th>...</th>\n",
              "      <td>...</td>\n",
              "      <td>...</td>\n",
              "      <td>...</td>\n",
              "      <td>...</td>\n",
              "      <td>...</td>\n",
              "      <td>...</td>\n",
              "      <td>...</td>\n",
              "      <td>...</td>\n",
              "      <td>...</td>\n",
              "      <td>...</td>\n",
              "      <td>...</td>\n",
              "      <td>...</td>\n",
              "      <td>...</td>\n",
              "    </tr>\n",
              "    <tr>\n",
              "      <th>886</th>\n",
              "      <td>10</td>\n",
              "      <td>1</td>\n",
              "      <td>2</td>\n",
              "      <td>Nasser, Mrs. Nicholas (Adele Achem)</td>\n",
              "      <td>female</td>\n",
              "      <td>14.0</td>\n",
              "      <td>1</td>\n",
              "      <td>0</td>\n",
              "      <td>237736</td>\n",
              "      <td>30.0708</td>\n",
              "      <td>C</td>\n",
              "      <td>Mrs</td>\n",
              "      <td>1</td>\n",
              "    </tr>\n",
              "    <tr>\n",
              "      <th>887</th>\n",
              "      <td>61</td>\n",
              "      <td>0</td>\n",
              "      <td>3</td>\n",
              "      <td>Sirayanian, Mr. Orsen</td>\n",
              "      <td>male</td>\n",
              "      <td>22.0</td>\n",
              "      <td>0</td>\n",
              "      <td>0</td>\n",
              "      <td>2669</td>\n",
              "      <td>7.2292</td>\n",
              "      <td>C</td>\n",
              "      <td>Mrs</td>\n",
              "      <td>0</td>\n",
              "    </tr>\n",
              "    <tr>\n",
              "      <th>888</th>\n",
              "      <td>535</td>\n",
              "      <td>0</td>\n",
              "      <td>3</td>\n",
              "      <td>Cacic, Miss. Marija</td>\n",
              "      <td>female</td>\n",
              "      <td>30.0</td>\n",
              "      <td>0</td>\n",
              "      <td>0</td>\n",
              "      <td>315084</td>\n",
              "      <td>8.6625</td>\n",
              "      <td>S</td>\n",
              "      <td>Miss</td>\n",
              "      <td>0</td>\n",
              "    </tr>\n",
              "    <tr>\n",
              "      <th>889</th>\n",
              "      <td>102</td>\n",
              "      <td>0</td>\n",
              "      <td>3</td>\n",
              "      <td>Petroff, Mr. Pastcho (\"Pentcho\")</td>\n",
              "      <td>male</td>\n",
              "      <td>28.0</td>\n",
              "      <td>0</td>\n",
              "      <td>0</td>\n",
              "      <td>349215</td>\n",
              "      <td>7.8958</td>\n",
              "      <td>S</td>\n",
              "      <td>Mrs</td>\n",
              "      <td>0</td>\n",
              "    </tr>\n",
              "    <tr>\n",
              "      <th>890</th>\n",
              "      <td>428</td>\n",
              "      <td>1</td>\n",
              "      <td>2</td>\n",
              "      <td>Phillips, Miss. Kate Florence (\"Mrs Kate Louis...</td>\n",
              "      <td>female</td>\n",
              "      <td>19.0</td>\n",
              "      <td>0</td>\n",
              "      <td>0</td>\n",
              "      <td>250655</td>\n",
              "      <td>26.0000</td>\n",
              "      <td>S</td>\n",
              "      <td>Miss</td>\n",
              "      <td>0</td>\n",
              "    </tr>\n",
              "  </tbody>\n",
              "</table>\n",
              "<p>889 rows × 13 columns</p>\n",
              "</div>"
            ],
            "text/plain": [
              "     PassengerId  Survived  Pclass  ... Embarked title  Familiysize\n",
              "0            343         0       2  ...        S   Mrs            0\n",
              "1             76         0       3  ...        S   Mrs            0\n",
              "2            641         0       3  ...        S   Mrs            0\n",
              "3            568         0       3  ...        S   Mrs            4\n",
              "4            672         0       1  ...        S   Mrs            1\n",
              "..           ...       ...     ...  ...      ...   ...          ...\n",
              "886           10         1       2  ...        C   Mrs            1\n",
              "887           61         0       3  ...        C   Mrs            0\n",
              "888          535         0       3  ...        S  Miss            0\n",
              "889          102         0       3  ...        S   Mrs            0\n",
              "890          428         1       2  ...        S  Miss            0\n",
              "\n",
              "[889 rows x 13 columns]"
            ]
          },
          "metadata": {
            "tags": []
          },
          "execution_count": 42
        }
      ]
    },
    {
      "cell_type": "code",
      "metadata": {
        "colab": {
          "base_uri": "https://localhost:8080/",
          "height": 455
        },
        "id": "BWs4uvILqfLk",
        "outputId": "a14d03a5-fe5d-4caf-cc0a-7c07cddebe32"
      },
      "source": [
        "grid= sns.FacetGrid(df, row='Survived', col='Sex', height=2.6, aspect=1.6)\n",
        "grid.map(sns.barplot, 'Familiysize', 'title', alpha=0.5,ci=None)\n",
        "grid.add_legend()"
      ],
      "execution_count": 43,
      "outputs": [
        {
          "output_type": "stream",
          "text": [
            "/usr/local/lib/python3.7/dist-packages/seaborn/axisgrid.py:643: UserWarning: Using the barplot function without specifying `order` is likely to produce an incorrect plot.\n",
            "  warnings.warn(warning)\n"
          ],
          "name": "stderr"
        },
        {
          "output_type": "execute_result",
          "data": {
            "text/plain": [
              "<seaborn.axisgrid.FacetGrid at 0x7f4abcc0c090>"
            ]
          },
          "metadata": {
            "tags": []
          },
          "execution_count": 43
        },
        {
          "output_type": "display_data",
          "data": {
            "image/png": "[encoded data removed]",
            "text/plain": [
              "<Figure size 607.04x374.4 with 4 Axes>"
            ]
          },
          "metadata": {
            "tags": [],
            "needs_background": "light"
          }
        }
      ]
    },
    {
      "cell_type": "code",
      "metadata": {
        "id": "_2nblQrtoa2S"
      },
      "source": [
        " # replacing Sex colomn with numirical features\n",
        "df.replace({'Sex':{'male': 1,'female':0}},inplace=True)"
      ],
      "execution_count": 44,
      "outputs": []
    },
    {
      "cell_type": "code",
      "metadata": {
        "colab": {
          "base_uri": "https://localhost:8080/",
          "height": 584
        },
        "id": "5yf9U8GEMuam",
        "outputId": "efa8c47e-73e0-4580-b83a-29fdab98e4aa"
      },
      "source": [
        "# visualising the correlations with our data's new features: fimilysize and title\n",
        "plot_correlation_map(df)"
      ],
      "execution_count": 45,
      "outputs": [
        {
          "output_type": "display_data",
          "data": {
            "image/png": "[encoded data removed]",
            "text/plain": [
              "<Figure size 864x720 with 2 Axes>"
            ]
          },
          "metadata": {
            "tags": [],
            "needs_background": "light"
          }
        }
      ]
    },
    {
      "cell_type": "code",
      "metadata": {
        "id": "6zTJvCU1JIPr"
      },
      "source": [
        "from sklearn.model_selection import train_test_split\n",
        "from sklearn import tree   \n",
        "from sklearn.tree import DecisionTreeClassifier\n",
        "from sklearn.metrics import accuracy_score"
      ],
      "execution_count": 46,
      "outputs": []
    },
    {
      "cell_type": "code",
      "metadata": {
        "id": "aqLq29uhSTyq"
      },
      "source": [
        "x=df.drop([\"Survived\", \"Name\", \"Ticket\", \"Embarked\",\"PassengerId\",\"title\",\"Sex\"], axis=1)\n",
        "y= df[\"Survived\"]"
      ],
      "execution_count": 51,
      "outputs": []
    },
    {
      "cell_type": "code",
      "metadata": {
        "id": "xQN_Mc8tSoCF"
      },
      "source": [
        "#splitting the data\n",
        "x_train, x_test, y_train, y_test = train_test_split(x,y, test_size=0.20,random_state=10)\n"
      ],
      "execution_count": 52,
      "outputs": []
    },
    {
      "cell_type": "code",
      "metadata": {
        "id": "MHqKQKa1tjxx"
      },
      "source": [
        "from sklearn.metrics import confusion_matrix"
      ],
      "execution_count": 53,
      "outputs": []
    },
    {
      "cell_type": "code",
      "metadata": {
        "colab": {
          "base_uri": "https://localhost:8080/"
        },
        "id": "SKVZOerSZXix",
        "outputId": "ebd2260a-f7bc-41d6-b9dc-f7472658ed3b"
      },
      "source": [
        "# applying tree algorithm\n",
        "tree1 = tree.DecisionTreeClassifier()  \n",
        "tree1.fit(x_train, y_train)"
      ],
      "execution_count": 54,
      "outputs": [
        {
          "output_type": "execute_result",
          "data": {
            "text/plain": [
              "DecisionTreeClassifier(ccp_alpha=0.0, class_weight=None, criterion='gini',\n",
              "                       max_depth=None, max_features=None, max_leaf_nodes=None,\n",
              "                       min_impurity_decrease=0.0, min_impurity_split=None,\n",
              "                       min_samples_leaf=1, min_samples_split=2,\n",
              "                       min_weight_fraction_leaf=0.0, presort='deprecated',\n",
              "                       random_state=None, splitter='best')"
            ]
          },
          "metadata": {
            "tags": []
          },
          "execution_count": 54
        }
      ]
    },
    {
      "cell_type": "code",
      "metadata": {
        "colab": {
          "base_uri": "https://localhost:8080/",
          "height": 1000
        },
        "id": "FztHSYTzZaBg",
        "outputId": "4d966a02-70a0-4df0-951a-4c02965157ab"
      },
      "source": [
        "# plot the tree\n",
        "from sklearn.tree import plot_tree\n",
        "plt.figure(figsize=(10,5))\n",
        "plot_tree(tree1, filled= True, rounded= True, class_names= [\"no D\", \"yes D\"], feature_names= x.columns)"
      ],
      "execution_count": 58,
      "outputs": [
        {
          "output_type": "execute_result",
          "data": {
            "text/plain": [
              "[Text(263.68873467302456, 266.36400000000003, 'Fare <= 10.817\\ngini = 0.471\\nsamples = 711\\nvalue = [441, 270]\\nclass = no D'),\n",
              " Text(72.83838555858311, 255.49200000000002, 'Age <= 18.5\\ngini = 0.323\\nsamples = 306\\nvalue = [244, 62]\\nclass = no D'),\n",
              " Text(18.245231607629428, 244.62, 'Fare <= 7.175\\ngini = 0.469\\nsamples = 32\\nvalue = [20, 12]\\nclass = no D'),\n",
              " Text(15.204359673024523, 233.74800000000002, 'gini = 0.0\\nsamples = 3\\nvalue = [3, 0]\\nclass = no D'),\n",
              " Text(21.286103542234333, 233.74800000000002, 'Parch <= 1.5\\ngini = 0.485\\nsamples = 29\\nvalue = [17, 12]\\nclass = no D'),\n",
              " Text(18.245231607629428, 222.876, 'SibSp <= 0.5\\ngini = 0.477\\nsamples = 28\\nvalue = [17, 11]\\nclass = no D'),\n",
              " Text(15.204359673024523, 212.00400000000002, 'Fare <= 7.623\\ngini = 0.493\\nsamples = 25\\nvalue = [14, 11]\\nclass = no D'),\n",
              " Text(12.163487738419619, 201.132, 'gini = 0.0\\nsamples = 3\\nvalue = [0, 3]\\nclass = yes D'),\n",
              " Text(18.245231607629428, 201.132, 'Age <= 1.21\\ngini = 0.463\\nsamples = 22\\nvalue = [14, 8]\\nclass = no D'),\n",
              " Text(15.204359673024523, 190.26000000000002, 'gini = 0.0\\nsamples = 1\\nvalue = [0, 1]\\nclass = yes D'),\n",
              " Text(21.286103542234333, 190.26000000000002, 'Age <= 14.5\\ngini = 0.444\\nsamples = 21\\nvalue = [14, 7]\\nclass = no D'),\n",
              " Text(18.245231607629428, 179.388, 'gini = 0.0\\nsamples = 2\\nvalue = [2, 0]\\nclass = no D'),\n",
              " Text(24.326975476839237, 179.388, 'Familiysize <= 0.5\\ngini = 0.465\\nsamples = 19\\nvalue = [12, 7]\\nclass = no D'),\n",
              " Text(21.286103542234333, 168.51600000000002, 'Age <= 15.5\\ngini = 0.444\\nsamples = 18\\nvalue = [12, 6]\\nclass = no D'),\n",
              " Text(18.245231607629428, 157.644, 'gini = 0.0\\nsamples = 1\\nvalue = [0, 1]\\nclass = yes D'),\n",
              " Text(24.326975476839237, 157.644, 'Fare <= 9.671\\ngini = 0.415\\nsamples = 17\\nvalue = [12, 5]\\nclass = no D'),\n",
              " Text(18.245231607629428, 146.77200000000002, 'Fare <= 8.175\\ngini = 0.337\\nsamples = 14\\nvalue = [11, 3]\\nclass = no D'),\n",
              " Text(15.204359673024523, 135.9, 'Fare <= 7.923\\ngini = 0.469\\nsamples = 8\\nvalue = [5, 3]\\nclass = no D'),\n",
              " Text(9.122615803814714, 125.02800000000002, 'Age <= 17.0\\ngini = 0.32\\nsamples = 5\\nvalue = [4, 1]\\nclass = no D'),\n",
              " Text(6.081743869209809, 114.156, 'Fare <= 7.763\\ngini = 0.5\\nsamples = 2\\nvalue = [1, 1]\\nclass = no D'),\n",
              " Text(3.0408719346049047, 103.28400000000002, 'gini = 0.0\\nsamples = 1\\nvalue = [0, 1]\\nclass = yes D'),\n",
              " Text(9.122615803814714, 103.28400000000002, 'gini = 0.0\\nsamples = 1\\nvalue = [1, 0]\\nclass = no D'),\n",
              " Text(12.163487738419619, 114.156, 'gini = 0.0\\nsamples = 3\\nvalue = [3, 0]\\nclass = no D'),\n",
              " Text(21.286103542234333, 125.02800000000002, 'Age <= 17.0\\ngini = 0.444\\nsamples = 3\\nvalue = [1, 2]\\nclass = yes D'),\n",
              " Text(18.245231607629428, 114.156, 'gini = 0.5\\nsamples = 2\\nvalue = [1, 1]\\nclass = no D'),\n",
              " Text(24.326975476839237, 114.156, 'gini = 0.0\\nsamples = 1\\nvalue = [0, 1]\\nclass = yes D'),\n",
              " Text(21.286103542234333, 135.9, 'gini = 0.0\\nsamples = 6\\nvalue = [6, 0]\\nclass = no D'),\n",
              " Text(30.408719346049047, 146.77200000000002, 'Age <= 16.5\\ngini = 0.444\\nsamples = 3\\nvalue = [1, 2]\\nclass = yes D'),\n",
              " Text(27.367847411444142, 135.9, 'gini = 0.0\\nsamples = 1\\nvalue = [1, 0]\\nclass = no D'),\n",
              " Text(33.44959128065395, 135.9, 'gini = 0.0\\nsamples = 2\\nvalue = [0, 2]\\nclass = yes D'),\n",
              " Text(27.367847411444142, 168.51600000000002, 'gini = 0.0\\nsamples = 1\\nvalue = [0, 1]\\nclass = yes D'),\n",
              " Text(21.286103542234333, 212.00400000000002, 'gini = 0.0\\nsamples = 3\\nvalue = [3, 0]\\nclass = no D'),\n",
              " Text(24.326975476839237, 222.876, 'gini = 0.0\\nsamples = 1\\nvalue = [0, 1]\\nclass = yes D'),\n",
              " Text(127.43153950953679, 244.62, 'Fare <= 7.883\\ngini = 0.298\\nsamples = 274\\nvalue = [224, 50]\\nclass = no D'),\n",
              " Text(88.75544959128065, 233.74800000000002, 'Age <= 29.5\\ngini = 0.366\\nsamples = 137\\nvalue = [104, 33]\\nclass = no D'),\n",
              " Text(75.641689373297, 222.876, 'Fare <= 7.731\\ngini = 0.433\\nsamples = 101\\nvalue = [69, 32]\\nclass = no D'),\n",
              " Text(58.536784741144416, 212.00400000000002, 'Age <= 27.5\\ngini = 0.311\\nsamples = 52\\nvalue = [42, 10]\\nclass = no D'),\n",
              " Text(50.17438692098093, 201.132, 'Age <= 26.0\\ngini = 0.413\\nsamples = 24\\nvalue = [17, 7]\\nclass = no D'),\n",
              " Text(47.13351498637602, 190.26000000000002, 'Fare <= 7.535\\ngini = 0.386\\nsamples = 23\\nvalue = [17, 6]\\nclass = no D'),\n",
              " Text(39.531335149863764, 179.388, 'Fare <= 2.006\\ngini = 0.32\\nsamples = 20\\nvalue = [16, 4]\\nclass = no D'),\n",
              " Text(33.44959128065395, 168.51600000000002, 'Age <= 22.0\\ngini = 0.5\\nsamples = 2\\nvalue = [1, 1]\\nclass = no D'),\n",
              " Text(30.408719346049047, 157.644, 'gini = 0.0\\nsamples = 1\\nvalue = [1, 0]\\nclass = no D'),\n",
              " Text(36.490463215258856, 157.644, 'gini = 0.0\\nsamples = 1\\nvalue = [0, 1]\\nclass = yes D'),\n",
              " Text(45.61307901907357, 168.51600000000002, 'Fare <= 7.133\\ngini = 0.278\\nsamples = 18\\nvalue = [15, 3]\\nclass = no D'),\n",
              " Text(42.572207084468666, 157.644, 'gini = 0.0\\nsamples = 5\\nvalue = [5, 0]\\nclass = no D'),\n",
              " Text(48.653950953678475, 157.644, 'Fare <= 7.183\\ngini = 0.355\\nsamples = 13\\nvalue = [10, 3]\\nclass = no D'),\n",
              " Text(45.61307901907357, 146.77200000000002, 'gini = 0.0\\nsamples = 1\\nvalue = [0, 1]\\nclass = yes D'),\n",
              " Text(51.69482288828338, 146.77200000000002, 'Age <= 20.25\\ngini = 0.278\\nsamples = 12\\nvalue = [10, 2]\\nclass = no D'),\n",
              " Text(48.653950953678475, 135.9, 'gini = 0.0\\nsamples = 1\\nvalue = [0, 1]\\nclass = yes D'),\n",
              " Text(54.735694822888284, 135.9, 'Age <= 22.75\\ngini = 0.165\\nsamples = 11\\nvalue = [10, 1]\\nclass = no D'),\n",
              " Text(51.69482288828338, 125.02800000000002, 'Fare <= 7.24\\ngini = 0.245\\nsamples = 7\\nvalue = [6, 1]\\nclass = no D'),\n",
              " Text(48.653950953678475, 114.156, 'gini = 0.0\\nsamples = 1\\nvalue = [1, 0]\\nclass = no D'),\n",
              " Text(54.735694822888284, 114.156, 'Familiysize <= 0.5\\ngini = 0.278\\nsamples = 6\\nvalue = [5, 1]\\nclass = no D'),\n",
              " Text(51.69482288828338, 103.28400000000002, 'Age <= 21.25\\ngini = 0.32\\nsamples = 5\\nvalue = [4, 1]\\nclass = no D'),\n",
              " Text(48.653950953678475, 92.412, 'gini = 0.0\\nsamples = 1\\nvalue = [1, 0]\\nclass = no D'),\n",
              " Text(54.735694822888284, 92.412, 'Fare <= 7.385\\ngini = 0.375\\nsamples = 4\\nvalue = [3, 1]\\nclass = no D'),\n",
              " Text(51.69482288828338, 81.54000000000002, 'gini = 0.444\\nsamples = 3\\nvalue = [2, 1]\\nclass = no D'),\n",
              " Text(57.776566757493185, 81.54000000000002, 'gini = 0.0\\nsamples = 1\\nvalue = [1, 0]\\nclass = no D'),\n",
              " Text(57.776566757493185, 103.28400000000002, 'gini = 0.0\\nsamples = 1\\nvalue = [1, 0]\\nclass = no D'),\n",
              " Text(57.776566757493185, 125.02800000000002, 'gini = 0.0\\nsamples = 4\\nvalue = [4, 0]\\nclass = no D'),\n",
              " Text(54.735694822888284, 179.388, 'Age <= 20.0\\ngini = 0.444\\nsamples = 3\\nvalue = [1, 2]\\nclass = yes D'),\n",
              " Text(51.69482288828338, 168.51600000000002, 'gini = 0.0\\nsamples = 1\\nvalue = [1, 0]\\nclass = no D'),\n",
              " Text(57.776566757493185, 168.51600000000002, 'gini = 0.0\\nsamples = 2\\nvalue = [0, 2]\\nclass = yes D'),\n",
              " Text(53.21525885558583, 190.26000000000002, 'gini = 0.0\\nsamples = 1\\nvalue = [0, 1]\\nclass = yes D'),\n",
              " Text(66.8991825613079, 201.132, 'Fare <= 7.138\\ngini = 0.191\\nsamples = 28\\nvalue = [25, 3]\\nclass = no D'),\n",
              " Text(63.858310626703, 190.26000000000002, 'gini = 0.0\\nsamples = 10\\nvalue = [10, 0]\\nclass = no D'),\n",
              " Text(69.9400544959128, 190.26000000000002, 'Fare <= 7.24\\ngini = 0.278\\nsamples = 18\\nvalue = [15, 3]\\nclass = no D'),\n",
              " Text(66.8991825613079, 179.388, 'Fare <= 7.227\\ngini = 0.42\\nsamples = 10\\nvalue = [7, 3]\\nclass = no D'),\n",
              " Text(63.858310626703, 168.51600000000002, 'gini = 0.32\\nsamples = 5\\nvalue = [4, 1]\\nclass = no D'),\n",
              " Text(69.9400544959128, 168.51600000000002, 'Age <= 28.25\\ngini = 0.48\\nsamples = 5\\nvalue = [3, 2]\\nclass = no D'),\n",
              " Text(66.8991825613079, 157.644, 'gini = 0.5\\nsamples = 4\\nvalue = [2, 2]\\nclass = no D'),\n",
              " Text(72.98092643051771, 157.644, 'gini = 0.0\\nsamples = 1\\nvalue = [1, 0]\\nclass = no D'),\n",
              " Text(72.98092643051771, 179.388, 'gini = 0.0\\nsamples = 8\\nvalue = [8, 0]\\nclass = no D'),\n",
              " Text(92.7465940054496, 212.00400000000002, 'Fare <= 7.867\\ngini = 0.495\\nsamples = 49\\nvalue = [27, 22]\\nclass = no D'),\n",
              " Text(89.70572207084469, 201.132, 'Age <= 21.5\\ngini = 0.485\\nsamples = 46\\nvalue = [27, 19]\\nclass = no D'),\n",
              " Text(82.10354223433242, 190.26000000000002, 'SibSp <= 0.5\\ngini = 0.219\\nsamples = 8\\nvalue = [7, 1]\\nclass = no D'),\n",
              " Text(79.06267029972753, 179.388, 'gini = 0.0\\nsamples = 7\\nvalue = [7, 0]\\nclass = no D'),\n",
              " Text(85.14441416893733, 179.388, 'gini = 0.0\\nsamples = 1\\nvalue = [0, 1]\\nclass = yes D'),\n",
              " Text(97.30790190735695, 190.26000000000002, 'Fare <= 7.792\\ngini = 0.499\\nsamples = 38\\nvalue = [20, 18]\\nclass = no D'),\n",
              " Text(91.22615803814713, 179.388, 'Age <= 23.5\\ngini = 0.499\\nsamples = 29\\nvalue = [14, 15]\\nclass = yes D'),\n",
              " Text(88.18528610354224, 168.51600000000002, 'gini = 0.0\\nsamples = 2\\nvalue = [0, 2]\\nclass = yes D'),\n",
              " Text(94.26702997275204, 168.51600000000002, 'Fare <= 7.781\\ngini = 0.499\\nsamples = 27\\nvalue = [14, 13]\\nclass = no D'),\n",
              " Text(91.22615803814713, 157.644, 'Parch <= 1.0\\ngini = 0.497\\nsamples = 26\\nvalue = [14, 12]\\nclass = no D'),\n",
              " Text(88.18528610354224, 146.77200000000002, 'Age <= 27.0\\ngini = 0.499\\nsamples = 25\\nvalue = [13, 12]\\nclass = no D'),\n",
              " Text(80.58310626702998, 135.9, 'Familiysize <= 0.5\\ngini = 0.375\\nsamples = 4\\nvalue = [3, 1]\\nclass = no D'),\n",
              " Text(77.54223433242507, 125.02800000000002, 'gini = 0.0\\nsamples = 2\\nvalue = [2, 0]\\nclass = no D'),\n",
              " Text(83.62397820163488, 125.02800000000002, 'gini = 0.5\\nsamples = 2\\nvalue = [1, 1]\\nclass = no D'),\n",
              " Text(95.7874659400545, 135.9, 'Fare <= 7.763\\ngini = 0.499\\nsamples = 21\\nvalue = [10, 11]\\nclass = yes D'),\n",
              " Text(89.70572207084469, 125.02800000000002, 'Age <= 28.5\\ngini = 0.494\\nsamples = 18\\nvalue = [8, 10]\\nclass = yes D'),\n",
              " Text(86.66485013623978, 114.156, 'Fare <= 7.744\\ngini = 0.498\\nsamples = 17\\nvalue = [8, 9]\\nclass = yes D'),\n",
              " Text(83.62397820163488, 103.28400000000002, 'Fare <= 7.735\\ngini = 0.444\\nsamples = 3\\nvalue = [1, 2]\\nclass = yes D'),\n",
              " Text(80.58310626702998, 92.412, 'gini = 0.5\\nsamples = 2\\nvalue = [1, 1]\\nclass = no D'),\n",
              " Text(86.66485013623978, 92.412, 'gini = 0.0\\nsamples = 1\\nvalue = [0, 1]\\nclass = yes D'),\n",
              " Text(89.70572207084469, 103.28400000000002, 'gini = 0.5\\nsamples = 14\\nvalue = [7, 7]\\nclass = no D'),\n",
              " Text(92.7465940054496, 114.156, 'gini = 0.0\\nsamples = 1\\nvalue = [0, 1]\\nclass = yes D'),\n",
              " Text(101.8692098092643, 125.02800000000002, 'Age <= 28.5\\ngini = 0.444\\nsamples = 3\\nvalue = [2, 1]\\nclass = no D'),\n",
              " Text(98.8283378746594, 114.156, 'gini = 0.5\\nsamples = 2\\nvalue = [1, 1]\\nclass = no D'),\n",
              " Text(104.91008174386921, 114.156, 'gini = 0.0\\nsamples = 1\\nvalue = [1, 0]\\nclass = no D'),\n",
              " Text(94.26702997275204, 146.77200000000002, 'gini = 0.0\\nsamples = 1\\nvalue = [1, 0]\\nclass = no D'),\n",
              " Text(97.30790190735695, 157.644, 'gini = 0.0\\nsamples = 1\\nvalue = [0, 1]\\nclass = yes D'),\n",
              " Text(103.38964577656677, 179.388, 'Age <= 25.0\\ngini = 0.444\\nsamples = 9\\nvalue = [6, 3]\\nclass = no D'),\n",
              " Text(100.34877384196186, 168.51600000000002, 'gini = 0.0\\nsamples = 3\\nvalue = [3, 0]\\nclass = no D'),\n",
              " Text(106.43051771117166, 168.51600000000002, 'Age <= 27.5\\ngini = 0.5\\nsamples = 6\\nvalue = [3, 3]\\nclass = no D'),\n",
              " Text(103.38964577656677, 157.644, 'gini = 0.0\\nsamples = 2\\nvalue = [0, 2]\\nclass = yes D'),\n",
              " Text(109.47138964577657, 157.644, 'Fare <= 7.812\\ngini = 0.375\\nsamples = 4\\nvalue = [3, 1]\\nclass = no D'),\n",
              " Text(106.43051771117166, 146.77200000000002, 'gini = 0.0\\nsamples = 1\\nvalue = [1, 0]\\nclass = no D'),\n",
              " Text(112.51226158038148, 146.77200000000002, 'Fare <= 7.842\\ngini = 0.444\\nsamples = 3\\nvalue = [2, 1]\\nclass = no D'),\n",
              " Text(109.47138964577657, 135.9, 'gini = 0.5\\nsamples = 2\\nvalue = [1, 1]\\nclass = no D'),\n",
              " Text(115.55313351498637, 135.9, 'gini = 0.0\\nsamples = 1\\nvalue = [1, 0]\\nclass = no D'),\n",
              " Text(95.7874659400545, 201.132, 'gini = 0.0\\nsamples = 3\\nvalue = [0, 3]\\nclass = yes D'),\n",
              " Text(101.8692098092643, 222.876, 'Fare <= 7.815\\ngini = 0.054\\nsamples = 36\\nvalue = [35, 1]\\nclass = no D'),\n",
              " Text(98.8283378746594, 212.00400000000002, 'gini = 0.0\\nsamples = 33\\nvalue = [33, 0]\\nclass = no D'),\n",
              " Text(104.91008174386921, 212.00400000000002, 'Age <= 31.5\\ngini = 0.444\\nsamples = 3\\nvalue = [2, 1]\\nclass = no D'),\n",
              " Text(101.8692098092643, 201.132, 'gini = 0.0\\nsamples = 1\\nvalue = [1, 0]\\nclass = no D'),\n",
              " Text(107.95095367847412, 201.132, 'Age <= 40.0\\ngini = 0.5\\nsamples = 2\\nvalue = [1, 1]\\nclass = no D'),\n",
              " Text(104.91008174386921, 190.26000000000002, 'gini = 0.0\\nsamples = 1\\nvalue = [0, 1]\\nclass = yes D'),\n",
              " Text(110.99182561307902, 190.26000000000002, 'gini = 0.0\\nsamples = 1\\nvalue = [1, 0]\\nclass = no D'),\n",
              " Text(166.10762942779292, 233.74800000000002, 'Age <= 28.5\\ngini = 0.217\\nsamples = 137\\nvalue = [120, 17]\\nclass = no D'),\n",
              " Text(136.8392370572207, 222.876, 'Pclass <= 2.5\\ngini = 0.093\\nsamples = 82\\nvalue = [78, 4]\\nclass = no D'),\n",
              " Text(126.19618528610354, 212.00400000000002, 'Age <= 22.0\\ngini = 0.408\\nsamples = 7\\nvalue = [5, 2]\\nclass = no D'),\n",
              " Text(120.11444141689374, 201.132, 'Age <= 20.0\\ngini = 0.5\\nsamples = 2\\nvalue = [1, 1]\\nclass = no D'),\n",
              " Text(117.07356948228883, 190.26000000000002, 'gini = 0.0\\nsamples = 1\\nvalue = [1, 0]\\nclass = no D'),\n",
              " Text(123.15531335149863, 190.26000000000002, 'gini = 0.0\\nsamples = 1\\nvalue = [0, 1]\\nclass = yes D'),\n",
              " Text(132.27792915531336, 201.132, 'Age <= 26.5\\ngini = 0.32\\nsamples = 5\\nvalue = [4, 1]\\nclass = no D'),\n",
              " Text(129.23705722070844, 190.26000000000002, 'gini = 0.0\\nsamples = 3\\nvalue = [3, 0]\\nclass = no D'),\n",
              " Text(135.31880108991825, 190.26000000000002, 'Age <= 27.5\\ngini = 0.5\\nsamples = 2\\nvalue = [1, 1]\\nclass = no D'),\n",
              " Text(132.27792915531336, 179.388, 'gini = 0.0\\nsamples = 1\\nvalue = [0, 1]\\nclass = yes D'),\n",
              " Text(138.35967302452318, 179.388, 'gini = 0.0\\nsamples = 1\\nvalue = [1, 0]\\nclass = no D'),\n",
              " Text(147.4822888283379, 212.00400000000002, 'Age <= 27.5\\ngini = 0.052\\nsamples = 75\\nvalue = [73, 2]\\nclass = no D'),\n",
              " Text(144.44141689373296, 201.132, 'Age <= 26.5\\ngini = 0.1\\nsamples = 38\\nvalue = [36, 2]\\nclass = no D'),\n",
              " Text(141.40054495912807, 190.26000000000002, 'gini = 0.0\\nsamples = 35\\nvalue = [35, 0]\\nclass = no D'),\n",
              " Text(147.4822888283379, 190.26000000000002, 'Fare <= 7.91\\ngini = 0.444\\nsamples = 3\\nvalue = [1, 2]\\nclass = yes D'),\n",
              " Text(144.44141689373296, 179.388, 'gini = 0.0\\nsamples = 1\\nvalue = [1, 0]\\nclass = no D'),\n",
              " Text(150.52316076294278, 179.388, 'gini = 0.0\\nsamples = 2\\nvalue = [0, 2]\\nclass = yes D'),\n",
              " Text(150.52316076294278, 201.132, 'gini = 0.0\\nsamples = 37\\nvalue = [37, 0]\\nclass = no D'),\n",
              " Text(195.37602179836512, 222.876, 'Fare <= 9.492\\ngini = 0.361\\nsamples = 55\\nvalue = [42, 13]\\nclass = no D'),\n",
              " Text(179.41144414168937, 212.00400000000002, 'Age <= 32.5\\ngini = 0.272\\nsamples = 37\\nvalue = [31, 6]\\nclass = no D'),\n",
              " Text(165.7275204359673, 201.132, 'Age <= 30.75\\ngini = 0.463\\nsamples = 11\\nvalue = [7, 4]\\nclass = no D'),\n",
              " Text(159.6457765667575, 190.26000000000002, 'Fare <= 7.973\\ngini = 0.32\\nsamples = 5\\nvalue = [4, 1]\\nclass = no D'),\n",
              " Text(156.6049046321526, 179.388, 'gini = 0.0\\nsamples = 1\\nvalue = [0, 1]\\nclass = yes D'),\n",
              " Text(162.6866485013624, 179.388, 'gini = 0.0\\nsamples = 4\\nvalue = [4, 0]\\nclass = no D'),\n",
              " Text(171.80926430517712, 190.26000000000002, 'Age <= 31.5\\ngini = 0.5\\nsamples = 6\\nvalue = [3, 3]\\nclass = no D'),\n",
              " Text(168.7683923705722, 179.388, 'gini = 0.0\\nsamples = 1\\nvalue = [0, 1]\\nclass = yes D'),\n",
              " Text(174.85013623978202, 179.388, 'Fare <= 7.91\\ngini = 0.48\\nsamples = 5\\nvalue = [3, 2]\\nclass = no D'),\n",
              " Text(171.80926430517712, 168.51600000000002, 'gini = 0.0\\nsamples = 1\\nvalue = [1, 0]\\nclass = no D'),\n",
              " Text(177.8910081743869, 168.51600000000002, 'Fare <= 8.206\\ngini = 0.5\\nsamples = 4\\nvalue = [2, 2]\\nclass = no D'),\n",
              " Text(174.85013623978202, 157.644, 'Fare <= 7.988\\ngini = 0.444\\nsamples = 3\\nvalue = [1, 2]\\nclass = yes D'),\n",
              " Text(171.80926430517712, 146.77200000000002, 'gini = 0.5\\nsamples = 2\\nvalue = [1, 1]\\nclass = no D'),\n",
              " Text(177.8910081743869, 146.77200000000002, 'gini = 0.0\\nsamples = 1\\nvalue = [0, 1]\\nclass = yes D'),\n",
              " Text(180.93188010899183, 157.644, 'gini = 0.0\\nsamples = 1\\nvalue = [1, 0]\\nclass = no D'),\n",
              " Text(193.09536784741144, 201.132, 'Fare <= 7.988\\ngini = 0.142\\nsamples = 26\\nvalue = [24, 2]\\nclass = no D'),\n",
              " Text(190.05449591280654, 190.26000000000002, 'Age <= 42.0\\ngini = 0.346\\nsamples = 9\\nvalue = [7, 2]\\nclass = no D'),\n",
              " Text(187.01362397820165, 179.388, 'Fare <= 7.91\\ngini = 0.219\\nsamples = 8\\nvalue = [7, 1]\\nclass = no D'),\n",
              " Text(183.97275204359673, 168.51600000000002, 'gini = 0.0\\nsamples = 5\\nvalue = [5, 0]\\nclass = no D'),\n",
              " Text(190.05449591280654, 168.51600000000002, 'SibSp <= 1.0\\ngini = 0.444\\nsamples = 3\\nvalue = [2, 1]\\nclass = no D'),\n",
              " Text(187.01362397820165, 157.644, 'gini = 0.5\\nsamples = 2\\nvalue = [1, 1]\\nclass = no D'),\n",
              " Text(193.09536784741144, 157.644, 'gini = 0.0\\nsamples = 1\\nvalue = [1, 0]\\nclass = no D'),\n",
              " Text(193.09536784741144, 179.388, 'gini = 0.0\\nsamples = 1\\nvalue = [0, 1]\\nclass = yes D'),\n",
              " Text(196.13623978201636, 190.26000000000002, 'gini = 0.0\\nsamples = 17\\nvalue = [17, 0]\\nclass = no D'),\n",
              " Text(211.3405994550409, 212.00400000000002, 'Age <= 43.5\\ngini = 0.475\\nsamples = 18\\nvalue = [11, 7]\\nclass = no D'),\n",
              " Text(205.25885558583107, 201.132, 'Age <= 30.5\\ngini = 0.397\\nsamples = 11\\nvalue = [8, 3]\\nclass = no D'),\n",
              " Text(202.21798365122615, 190.26000000000002, 'Fare <= 9.981\\ngini = 0.48\\nsamples = 5\\nvalue = [2, 3]\\nclass = yes D'),\n",
              " Text(199.17711171662125, 179.388, 'gini = 0.0\\nsamples = 2\\nvalue = [0, 2]\\nclass = yes D'),\n",
              " Text(205.25885558583107, 179.388, 'Familiysize <= 1.0\\ngini = 0.444\\nsamples = 3\\nvalue = [2, 1]\\nclass = no D'),\n",
              " Text(202.21798365122615, 168.51600000000002, 'gini = 0.5\\nsamples = 2\\nvalue = [1, 1]\\nclass = no D'),\n",
              " Text(208.29972752043597, 168.51600000000002, 'gini = 0.0\\nsamples = 1\\nvalue = [1, 0]\\nclass = no D'),\n",
              " Text(208.29972752043597, 190.26000000000002, 'gini = 0.0\\nsamples = 6\\nvalue = [6, 0]\\nclass = no D'),\n",
              " Text(217.42234332425068, 201.132, 'Age <= 64.5\\ngini = 0.49\\nsamples = 7\\nvalue = [3, 4]\\nclass = yes D'),\n",
              " Text(214.38147138964578, 190.26000000000002, 'Age <= 53.5\\ngini = 0.32\\nsamples = 5\\nvalue = [1, 4]\\nclass = yes D'),\n",
              " Text(211.3405994550409, 179.388, 'gini = 0.0\\nsamples = 2\\nvalue = [0, 2]\\nclass = yes D'),\n",
              " Text(217.42234332425068, 179.388, 'Age <= 59.5\\ngini = 0.444\\nsamples = 3\\nvalue = [1, 2]\\nclass = yes D'),\n",
              " Text(214.38147138964578, 168.51600000000002, 'gini = 0.0\\nsamples = 1\\nvalue = [1, 0]\\nclass = no D'),\n",
              " Text(220.4632152588556, 168.51600000000002, 'gini = 0.0\\nsamples = 2\\nvalue = [0, 2]\\nclass = yes D'),\n",
              " Text(220.4632152588556, 190.26000000000002, 'gini = 0.0\\nsamples = 2\\nvalue = [2, 0]\\nclass = no D'),\n",
              " Text(454.5390837874659, 255.49200000000002, 'Familiysize <= 3.5\\ngini = 0.5\\nsamples = 405\\nvalue = [197, 208]\\nclass = yes D'),\n",
              " Text(369.32339918256133, 244.62, 'Age <= 14.25\\ngini = 0.492\\nsamples = 356\\nvalue = [156, 200]\\nclass = yes D'),\n",
              " Text(308.0783378746594, 233.74800000000002, 'Familiysize <= 0.5\\ngini = 0.062\\nsamples = 31\\nvalue = [1, 30]\\nclass = yes D'),\n",
              " Text(305.0374659400545, 222.876, 'Age <= 8.0\\ngini = 0.5\\nsamples = 2\\nvalue = [1, 1]\\nclass = no D'),\n",
              " Text(301.9965940054496, 212.00400000000002, 'gini = 0.0\\nsamples = 1\\nvalue = [0, 1]\\nclass = yes D'),\n",
              " Text(308.0783378746594, 212.00400000000002, 'gini = 0.0\\nsamples = 1\\nvalue = [1, 0]\\nclass = no D'),\n",
              " Text(311.1192098092643, 222.876, 'gini = 0.0\\nsamples = 29\\nvalue = [0, 29]\\nclass = yes D'),\n",
              " Text(430.5684604904632, 233.74800000000002, 'Fare <= 52.277\\ngini = 0.499\\nsamples = 325\\nvalue = [155, 170]\\nclass = yes D'),\n",
              " Text(366.1399863760218, 222.876, 'Age <= 53.5\\ngini = 0.486\\nsamples = 223\\nvalue = [130, 93]\\nclass = no D'),\n",
              " Text(314.1600817438692, 212.00400000000002, 'Fare <= 25.927\\ngini = 0.492\\nsamples = 203\\nvalue = [114, 89]\\nclass = no D'),\n",
              " Text(256.28848773841963, 201.132, 'Age <= 46.0\\ngini = 0.47\\nsamples = 122\\nvalue = [76, 46]\\nclass = no D'),\n",
              " Text(253.2476158038147, 190.26000000000002, 'Age <= 23.5\\ngini = 0.48\\nsamples = 115\\nvalue = [69, 46]\\nclass = no D'),\n",
              " Text(229.5858310626703, 179.388, 'Parch <= 1.5\\ngini = 0.291\\nsamples = 17\\nvalue = [14, 3]\\nclass = no D'),\n",
              " Text(226.5449591280654, 168.51600000000002, 'Age <= 15.5\\ngini = 0.219\\nsamples = 16\\nvalue = [14, 2]\\nclass = no D'),\n",
              " Text(220.4632152588556, 157.644, 'Age <= 14.75\\ngini = 0.5\\nsamples = 2\\nvalue = [1, 1]\\nclass = no D'),\n",
              " Text(217.42234332425068, 146.77200000000002, 'gini = 0.0\\nsamples = 1\\nvalue = [1, 0]\\nclass = no D'),\n",
              " Text(223.5040871934605, 146.77200000000002, 'gini = 0.0\\nsamples = 1\\nvalue = [0, 1]\\nclass = yes D'),\n",
              " Text(232.6267029972752, 157.644, 'Age <= 22.0\\ngini = 0.133\\nsamples = 14\\nvalue = [13, 1]\\nclass = no D'),\n",
              " Text(229.5858310626703, 146.77200000000002, 'gini = 0.0\\nsamples = 10\\nvalue = [10, 0]\\nclass = no D'),\n",
              " Text(235.66757493188013, 146.77200000000002, 'Fare <= 13.396\\ngini = 0.375\\nsamples = 4\\nvalue = [3, 1]\\nclass = no D'),\n",
              " Text(232.6267029972752, 135.9, 'gini = 0.0\\nsamples = 2\\nvalue = [2, 0]\\nclass = no D'),\n",
              " Text(238.70844686648502, 135.9, 'Fare <= 14.419\\ngini = 0.5\\nsamples = 2\\nvalue = [1, 1]\\nclass = no D'),\n",
              " Text(235.66757493188013, 125.02800000000002, 'gini = 0.0\\nsamples = 1\\nvalue = [0, 1]\\nclass = yes D'),\n",
              " Text(241.7493188010899, 125.02800000000002, 'gini = 0.0\\nsamples = 1\\nvalue = [1, 0]\\nclass = no D'),\n",
              " Text(232.6267029972752, 168.51600000000002, 'gini = 0.0\\nsamples = 1\\nvalue = [0, 1]\\nclass = yes D'),\n",
              " Text(276.9094005449591, 179.388, 'Fare <= 12.762\\ngini = 0.493\\nsamples = 98\\nvalue = [55, 43]\\nclass = no D'),\n",
              " Text(265.31607629427793, 168.51600000000002, 'Age <= 31.5\\ngini = 0.245\\nsamples = 7\\nvalue = [1, 6]\\nclass = yes D'),\n",
              " Text(262.275204359673, 157.644, 'gini = 0.0\\nsamples = 6\\nvalue = [0, 6]\\nclass = yes D'),\n",
              " Text(268.35694822888286, 157.644, 'gini = 0.0\\nsamples = 1\\nvalue = [1, 0]\\nclass = no D'),\n",
              " Text(288.50272479564035, 168.51600000000002, 'Fare <= 24.075\\ngini = 0.483\\nsamples = 91\\nvalue = [54, 37]\\nclass = no D'),\n",
              " Text(274.43869209809264, 157.644, 'Familiysize <= 1.5\\ngini = 0.488\\nsamples = 85\\nvalue = [49, 36]\\nclass = no D'),\n",
              " Text(261.5149863760218, 146.77200000000002, 'Age <= 39.5\\ngini = 0.469\\nsamples = 64\\nvalue = [40, 24]\\nclass = no D'),\n",
              " Text(250.87193460490462, 135.9, 'Fare <= 23.262\\ngini = 0.44\\nsamples = 55\\nvalue = [37, 18]\\nclass = no D'),\n",
              " Text(247.83106267029973, 125.02800000000002, 'Fare <= 19.377\\ngini = 0.431\\nsamples = 54\\nvalue = [37, 17]\\nclass = no D'),\n",
              " Text(241.7493188010899, 114.156, 'Fare <= 18.394\\ngini = 0.454\\nsamples = 46\\nvalue = [30, 16]\\nclass = no D'),\n",
              " Text(238.70844686648502, 103.28400000000002, 'Age <= 26.5\\ngini = 0.444\\nsamples = 45\\nvalue = [30, 15]\\nclass = no D'),\n",
              " Text(228.82561307901906, 92.412, 'Age <= 24.5\\ngini = 0.298\\nsamples = 11\\nvalue = [9, 2]\\nclass = no D'),\n",
              " Text(225.78474114441417, 81.54000000000002, 'Fare <= 15.975\\ngini = 0.48\\nsamples = 5\\nvalue = [3, 2]\\nclass = no D'),\n",
              " Text(222.74386920980928, 70.668, 'Fare <= 14.425\\ngini = 0.5\\nsamples = 4\\nvalue = [2, 2]\\nclass = no D'),\n",
              " Text(219.70299727520435, 59.79600000000002, 'gini = 0.444\\nsamples = 3\\nvalue = [2, 1]\\nclass = no D'),\n",
              " Text(225.78474114441417, 59.79600000000002, 'gini = 0.0\\nsamples = 1\\nvalue = [0, 1]\\nclass = yes D'),\n",
              " Text(228.82561307901906, 70.668, 'gini = 0.0\\nsamples = 1\\nvalue = [1, 0]\\nclass = no D'),\n",
              " Text(231.866485013624, 81.54000000000002, 'gini = 0.0\\nsamples = 6\\nvalue = [6, 0]\\nclass = no D'),\n",
              " Text(248.59128065395095, 92.412, 'Age <= 37.5\\ngini = 0.472\\nsamples = 34\\nvalue = [21, 13]\\nclass = no D'),\n",
              " Text(245.55040871934605, 81.54000000000002, 'Age <= 31.5\\ngini = 0.482\\nsamples = 32\\nvalue = [19, 13]\\nclass = no D'),\n",
              " Text(237.9482288828338, 70.668, 'Fare <= 15.3\\ngini = 0.454\\nsamples = 23\\nvalue = [15, 8]\\nclass = no D'),\n",
              " Text(231.866485013624, 59.79600000000002, 'Pclass <= 2.5\\ngini = 0.355\\nsamples = 13\\nvalue = [10, 3]\\nclass = no D'),\n",
              " Text(228.82561307901906, 48.92400000000001, 'Fare <= 13.679\\ngini = 0.469\\nsamples = 8\\nvalue = [5, 3]\\nclass = no D'),\n",
              " Text(225.78474114441417, 38.05200000000002, 'Fare <= 13.25\\ngini = 0.408\\nsamples = 7\\nvalue = [5, 2]\\nclass = no D'),\n",
              " Text(222.74386920980928, 27.180000000000007, 'Age <= 27.5\\ngini = 0.444\\nsamples = 6\\nvalue = [4, 2]\\nclass = no D'),\n",
              " Text(219.70299727520435, 16.30800000000002, 'gini = 0.0\\nsamples = 1\\nvalue = [1, 0]\\nclass = no D'),\n",
              " Text(225.78474114441417, 16.30800000000002, 'Age <= 29.0\\ngini = 0.48\\nsamples = 5\\nvalue = [3, 2]\\nclass = no D'),\n",
              " Text(222.74386920980928, 5.4360000000000355, 'gini = 0.5\\nsamples = 2\\nvalue = [1, 1]\\nclass = no D'),\n",
              " Text(228.82561307901906, 5.4360000000000355, 'gini = 0.444\\nsamples = 3\\nvalue = [2, 1]\\nclass = no D'),\n",
              " Text(228.82561307901906, 27.180000000000007, 'gini = 0.0\\nsamples = 1\\nvalue = [1, 0]\\nclass = no D'),\n",
              " Text(231.866485013624, 38.05200000000002, 'gini = 0.0\\nsamples = 1\\nvalue = [0, 1]\\nclass = yes D'),\n",
              " Text(234.90735694822888, 48.92400000000001, 'gini = 0.0\\nsamples = 5\\nvalue = [5, 0]\\nclass = no D'),\n",
              " Text(244.0299727520436, 59.79600000000002, 'Age <= 29.0\\ngini = 0.5\\nsamples = 10\\nvalue = [5, 5]\\nclass = no D'),\n",
              " Text(240.9891008174387, 48.92400000000001, 'Fare <= 15.8\\ngini = 0.469\\nsamples = 8\\nvalue = [3, 5]\\nclass = yes D'),\n",
              " Text(237.9482288828338, 38.05200000000002, 'gini = 0.48\\nsamples = 5\\nvalue = [2, 3]\\nclass = yes D'),\n",
              " Text(244.0299727520436, 38.05200000000002, 'gini = 0.444\\nsamples = 3\\nvalue = [1, 2]\\nclass = yes D'),\n",
              " Text(247.0708446866485, 48.92400000000001, 'gini = 0.0\\nsamples = 2\\nvalue = [2, 0]\\nclass = no D'),\n",
              " Text(253.1525885558583, 70.668, 'Age <= 33.25\\ngini = 0.494\\nsamples = 9\\nvalue = [4, 5]\\nclass = yes D'),\n",
              " Text(250.1117166212534, 59.79600000000002, 'gini = 0.0\\nsamples = 2\\nvalue = [0, 2]\\nclass = yes D'),\n",
              " Text(256.1934604904632, 59.79600000000002, 'Fare <= 16.475\\ngini = 0.49\\nsamples = 7\\nvalue = [4, 3]\\nclass = no D'),\n",
              " Text(253.1525885558583, 48.92400000000001, 'SibSp <= 0.5\\ngini = 0.444\\nsamples = 6\\nvalue = [4, 2]\\nclass = no D'),\n",
              " Text(250.1117166212534, 38.05200000000002, 'Fare <= 12.938\\ngini = 0.48\\nsamples = 5\\nvalue = [3, 2]\\nclass = no D'),\n",
              " Text(247.0708446866485, 27.180000000000007, 'gini = 0.0\\nsamples = 1\\nvalue = [1, 0]\\nclass = no D'),\n",
              " Text(253.1525885558583, 27.180000000000007, 'Age <= 35.0\\ngini = 0.5\\nsamples = 4\\nvalue = [2, 2]\\nclass = no D'),\n",
              " Text(250.1117166212534, 16.30800000000002, 'gini = 0.444\\nsamples = 3\\nvalue = [2, 1]\\nclass = no D'),\n",
              " Text(256.1934604904632, 16.30800000000002, 'gini = 0.0\\nsamples = 1\\nvalue = [0, 1]\\nclass = yes D'),\n",
              " Text(256.1934604904632, 38.05200000000002, 'gini = 0.0\\nsamples = 1\\nvalue = [1, 0]\\nclass = no D'),\n",
              " Text(259.23433242506815, 48.92400000000001, 'gini = 0.0\\nsamples = 1\\nvalue = [0, 1]\\nclass = yes D'),\n",
              " Text(251.63215258855587, 81.54000000000002, 'gini = 0.0\\nsamples = 2\\nvalue = [2, 0]\\nclass = no D'),\n",
              " Text(244.79019073569484, 103.28400000000002, 'gini = 0.0\\nsamples = 1\\nvalue = [0, 1]\\nclass = yes D'),\n",
              " Text(253.91280653950955, 114.156, 'Age <= 34.5\\ngini = 0.219\\nsamples = 8\\nvalue = [7, 1]\\nclass = no D'),\n",
              " Text(250.87193460490462, 103.28400000000002, 'gini = 0.0\\nsamples = 7\\nvalue = [7, 0]\\nclass = no D'),\n",
              " Text(256.95367847411444, 103.28400000000002, 'gini = 0.0\\nsamples = 1\\nvalue = [0, 1]\\nclass = yes D'),\n",
              " Text(253.91280653950955, 125.02800000000002, 'gini = 0.0\\nsamples = 1\\nvalue = [0, 1]\\nclass = yes D'),\n",
              " Text(272.158038147139, 135.9, 'Pclass <= 2.5\\ngini = 0.444\\nsamples = 9\\nvalue = [3, 6]\\nclass = yes D'),\n",
              " Text(269.1171662125341, 125.02800000000002, 'Fare <= 13.25\\ngini = 0.245\\nsamples = 7\\nvalue = [1, 6]\\nclass = yes D'),\n",
              " Text(266.07629427792915, 114.156, 'Age <= 41.0\\ngini = 0.375\\nsamples = 4\\nvalue = [1, 3]\\nclass = yes D'),\n",
              " Text(263.0354223433242, 103.28400000000002, 'gini = 0.0\\nsamples = 1\\nvalue = [0, 1]\\nclass = yes D'),\n",
              " Text(269.1171662125341, 103.28400000000002, 'gini = 0.444\\nsamples = 3\\nvalue = [1, 2]\\nclass = yes D'),\n",
              " Text(272.158038147139, 114.156, 'gini = 0.0\\nsamples = 3\\nvalue = [0, 3]\\nclass = yes D'),\n",
              " Text(275.19891008174386, 125.02800000000002, 'gini = 0.0\\nsamples = 2\\nvalue = [2, 0]\\nclass = no D'),\n",
              " Text(287.3623978201635, 146.77200000000002, 'Fare <= 23.35\\ngini = 0.49\\nsamples = 21\\nvalue = [9, 12]\\nclass = yes D'),\n",
              " Text(284.3215258855586, 135.9, 'Age <= 37.5\\ngini = 0.465\\nsamples = 19\\nvalue = [7, 12]\\nclass = yes D'),\n",
              " Text(281.2806539509537, 125.02800000000002, 'Fare <= 14.45\\ngini = 0.415\\nsamples = 17\\nvalue = [5, 12]\\nclass = yes D'),\n",
              " Text(278.2397820163488, 114.156, 'gini = 0.0\\nsamples = 1\\nvalue = [1, 0]\\nclass = no D'),\n",
              " Text(284.3215258855586, 114.156, 'Fare <= 20.387\\ngini = 0.375\\nsamples = 16\\nvalue = [4, 12]\\nclass = yes D'),\n",
              " Text(275.19891008174386, 103.28400000000002, 'Parch <= 1.5\\ngini = 0.198\\nsamples = 9\\nvalue = [1, 8]\\nclass = yes D'),\n",
              " Text(272.158038147139, 92.412, 'gini = 0.0\\nsamples = 4\\nvalue = [0, 4]\\nclass = yes D'),\n",
              " Text(278.2397820163488, 92.412, 'Age <= 26.0\\ngini = 0.32\\nsamples = 5\\nvalue = [1, 4]\\nclass = yes D'),\n",
              " Text(275.19891008174386, 81.54000000000002, 'gini = 0.0\\nsamples = 3\\nvalue = [0, 3]\\nclass = yes D'),\n",
              " Text(281.2806539509537, 81.54000000000002, 'Age <= 28.5\\ngini = 0.5\\nsamples = 2\\nvalue = [1, 1]\\nclass = no D'),\n",
              " Text(278.2397820163488, 70.668, 'gini = 0.0\\nsamples = 1\\nvalue = [1, 0]\\nclass = no D'),\n",
              " Text(284.3215258855586, 70.668, 'gini = 0.0\\nsamples = 1\\nvalue = [0, 1]\\nclass = yes D'),\n",
              " Text(293.4441416893733, 103.28400000000002, 'Fare <= 22.019\\ngini = 0.49\\nsamples = 7\\nvalue = [3, 4]\\nclass = yes D'),\n",
              " Text(290.4032697547684, 92.412, 'Age <= 29.5\\ngini = 0.375\\nsamples = 4\\nvalue = [3, 1]\\nclass = no D'),\n",
              " Text(287.3623978201635, 81.54000000000002, 'gini = 0.0\\nsamples = 2\\nvalue = [2, 0]\\nclass = no D'),\n",
              " Text(293.4441416893733, 81.54000000000002, 'Age <= 32.0\\ngini = 0.5\\nsamples = 2\\nvalue = [1, 1]\\nclass = no D'),\n",
              " Text(290.4032697547684, 70.668, 'gini = 0.0\\nsamples = 1\\nvalue = [0, 1]\\nclass = yes D'),\n",
              " Text(296.4850136239782, 70.668, 'gini = 0.0\\nsamples = 1\\nvalue = [1, 0]\\nclass = no D'),\n",
              " Text(296.4850136239782, 92.412, 'gini = 0.0\\nsamples = 3\\nvalue = [0, 3]\\nclass = yes D'),\n",
              " Text(287.3623978201635, 125.02800000000002, 'gini = 0.0\\nsamples = 2\\nvalue = [2, 0]\\nclass = no D'),\n",
              " Text(290.4032697547684, 135.9, 'gini = 0.0\\nsamples = 2\\nvalue = [2, 0]\\nclass = no D'),\n",
              " Text(302.566757493188, 157.644, 'Familiysize <= 1.5\\ngini = 0.278\\nsamples = 6\\nvalue = [5, 1]\\nclass = no D'),\n",
              " Text(299.5258855585831, 146.77200000000002, 'SibSp <= 0.5\\ngini = 0.444\\nsamples = 3\\nvalue = [2, 1]\\nclass = no D'),\n",
              " Text(296.4850136239782, 135.9, 'gini = 0.0\\nsamples = 2\\nvalue = [2, 0]\\nclass = no D'),\n",
              " Text(302.566757493188, 135.9, 'gini = 0.0\\nsamples = 1\\nvalue = [0, 1]\\nclass = yes D'),\n",
              " Text(305.6076294277929, 146.77200000000002, 'gini = 0.0\\nsamples = 3\\nvalue = [3, 0]\\nclass = no D'),\n",
              " Text(259.32935967302456, 190.26000000000002, 'gini = 0.0\\nsamples = 7\\nvalue = [7, 0]\\nclass = no D'),\n",
              " Text(372.0316757493188, 201.132, 'Age <= 47.5\\ngini = 0.498\\nsamples = 81\\nvalue = [38, 43]\\nclass = yes D'),\n",
              " Text(347.22956403269757, 190.26000000000002, 'Age <= 25.5\\ngini = 0.499\\nsamples = 71\\nvalue = [37, 34]\\nclass = no D'),\n",
              " Text(317.77111716621255, 179.388, 'Fare <= 33.375\\ngini = 0.32\\nsamples = 15\\nvalue = [3, 12]\\nclass = yes D'),\n",
              " Text(311.6893732970027, 168.51600000000002, 'Age <= 17.5\\ngini = 0.18\\nsamples = 10\\nvalue = [1, 9]\\nclass = yes D'),\n",
              " Text(308.64850136239784, 157.644, 'gini = 0.0\\nsamples = 1\\nvalue = [1, 0]\\nclass = no D'),\n",
              " Text(314.7302452316076, 157.644, 'gini = 0.0\\nsamples = 9\\nvalue = [0, 9]\\nclass = yes D'),\n",
              " Text(323.85286103542234, 168.51600000000002, 'Pclass <= 1.5\\ngini = 0.48\\nsamples = 5\\nvalue = [2, 3]\\nclass = yes D'),\n",
              " Text(320.81198910081747, 157.644, 'gini = 0.0\\nsamples = 2\\nvalue = [0, 2]\\nclass = yes D'),\n",
              " Text(326.89373297002726, 157.644, 'Parch <= 1.5\\ngini = 0.444\\nsamples = 3\\nvalue = [2, 1]\\nclass = no D'),\n",
              " Text(323.85286103542234, 146.77200000000002, 'gini = 0.0\\nsamples = 1\\nvalue = [1, 0]\\nclass = no D'),\n",
              " Text(329.9346049046322, 146.77200000000002, 'Age <= 23.5\\ngini = 0.5\\nsamples = 2\\nvalue = [1, 1]\\nclass = no D'),\n",
              " Text(326.89373297002726, 135.9, 'gini = 0.0\\nsamples = 1\\nvalue = [0, 1]\\nclass = yes D'),\n",
              " Text(332.97547683923705, 135.9, 'gini = 0.0\\nsamples = 1\\nvalue = [1, 0]\\nclass = no D'),\n",
              " Text(376.6880108991826, 179.388, 'Age <= 36.25\\ngini = 0.477\\nsamples = 56\\nvalue = [34, 22]\\nclass = no D'),\n",
              " Text(362.6239782016349, 168.51600000000002, 'Fare <= 36.252\\ngini = 0.499\\nsamples = 40\\nvalue = [21, 19]\\nclass = no D'),\n",
              " Text(352.74114441416896, 157.644, 'Fare <= 35.25\\ngini = 0.498\\nsamples = 32\\nvalue = [15, 17]\\nclass = yes D'),\n",
              " Text(349.70027247956403, 146.77200000000002, 'Fare <= 27.135\\ngini = 0.5\\nsamples = 30\\nvalue = [15, 15]\\nclass = no D'),\n",
              " Text(339.0572207084469, 135.9, 'Fare <= 26.125\\ngini = 0.48\\nsamples = 15\\nvalue = [6, 9]\\nclass = yes D'),\n",
              " Text(332.97547683923705, 125.02800000000002, 'SibSp <= 0.5\\ngini = 0.469\\nsamples = 8\\nvalue = [5, 3]\\nclass = no D'),\n",
              " Text(329.9346049046322, 114.156, 'gini = 0.0\\nsamples = 3\\nvalue = [3, 0]\\nclass = no D'),\n",
              " Text(336.01634877384197, 114.156, 'Age <= 27.5\\ngini = 0.48\\nsamples = 5\\nvalue = [2, 3]\\nclass = yes D'),\n",
              " Text(332.97547683923705, 103.28400000000002, 'gini = 0.0\\nsamples = 1\\nvalue = [1, 0]\\nclass = no D'),\n",
              " Text(339.0572207084469, 103.28400000000002, 'Age <= 31.5\\ngini = 0.375\\nsamples = 4\\nvalue = [1, 3]\\nclass = yes D'),\n",
              " Text(336.01634877384197, 92.412, 'gini = 0.0\\nsamples = 2\\nvalue = [0, 2]\\nclass = yes D'),\n",
              " Text(342.09809264305176, 92.412, 'Age <= 35.0\\ngini = 0.5\\nsamples = 2\\nvalue = [1, 1]\\nclass = no D'),\n",
              " Text(339.0572207084469, 81.54000000000002, 'gini = 0.0\\nsamples = 1\\nvalue = [1, 0]\\nclass = no D'),\n",
              " Text(345.1389645776567, 81.54000000000002, 'gini = 0.0\\nsamples = 1\\nvalue = [0, 1]\\nclass = yes D'),\n",
              " Text(345.1389645776567, 125.02800000000002, 'Age <= 29.5\\ngini = 0.245\\nsamples = 7\\nvalue = [1, 6]\\nclass = yes D'),\n",
              " Text(342.09809264305176, 114.156, 'gini = 0.444\\nsamples = 3\\nvalue = [1, 2]\\nclass = yes D'),\n",
              " Text(348.1798365122616, 114.156, 'gini = 0.0\\nsamples = 4\\nvalue = [0, 4]\\nclass = yes D'),\n",
              " Text(360.3433242506812, 135.9, 'Fare <= 28.725\\ngini = 0.48\\nsamples = 15\\nvalue = [9, 6]\\nclass = no D'),\n",
              " Text(357.3024523160763, 125.02800000000002, 'gini = 0.0\\nsamples = 4\\nvalue = [4, 0]\\nclass = no D'),\n",
              " Text(363.3841961852861, 125.02800000000002, 'Familiysize <= 0.5\\ngini = 0.496\\nsamples = 11\\nvalue = [5, 6]\\nclass = yes D'),\n",
              " Text(360.3433242506812, 114.156, 'Fare <= 34.0\\ngini = 0.444\\nsamples = 9\\nvalue = [3, 6]\\nclass = yes D'),\n",
              " Text(357.3024523160763, 103.28400000000002, 'Fare <= 30.848\\ngini = 0.375\\nsamples = 8\\nvalue = [2, 6]\\nclass = yes D'),\n",
              " Text(354.2615803814714, 92.412, 'Age <= 28.5\\ngini = 0.444\\nsamples = 6\\nvalue = [2, 4]\\nclass = yes D'),\n",
              " Text(351.22070844686647, 81.54000000000002, 'Fare <= 30.598\\ngini = 0.32\\nsamples = 5\\nvalue = [1, 4]\\nclass = yes D'),\n",
              " Text(348.1798365122616, 70.668, 'gini = 0.0\\nsamples = 4\\nvalue = [0, 4]\\nclass = yes D'),\n",
              " Text(354.2615803814714, 70.668, 'gini = 0.0\\nsamples = 1\\nvalue = [1, 0]\\nclass = no D'),\n",
              " Text(357.3024523160763, 81.54000000000002, 'gini = 0.0\\nsamples = 1\\nvalue = [1, 0]\\nclass = no D'),\n",
              " Text(360.3433242506812, 92.412, 'gini = 0.0\\nsamples = 2\\nvalue = [0, 2]\\nclass = yes D'),\n",
              " Text(363.3841961852861, 103.28400000000002, 'gini = 0.0\\nsamples = 1\\nvalue = [1, 0]\\nclass = no D'),\n",
              " Text(366.425068119891, 114.156, 'gini = 0.0\\nsamples = 2\\nvalue = [2, 0]\\nclass = no D'),\n",
              " Text(355.7820163487738, 146.77200000000002, 'gini = 0.0\\nsamples = 2\\nvalue = [0, 2]\\nclass = yes D'),\n",
              " Text(372.5068119891008, 157.644, 'Familiysize <= 0.5\\ngini = 0.375\\nsamples = 8\\nvalue = [6, 2]\\nclass = no D'),\n",
              " Text(369.46594005449595, 146.77200000000002, 'gini = 0.0\\nsamples = 4\\nvalue = [4, 0]\\nclass = no D'),\n",
              " Text(375.54768392370573, 146.77200000000002, 'Parch <= 0.5\\ngini = 0.5\\nsamples = 4\\nvalue = [2, 2]\\nclass = no D'),\n",
              " Text(372.5068119891008, 135.9, 'Age <= 29.5\\ngini = 0.444\\nsamples = 3\\nvalue = [1, 2]\\nclass = yes D'),\n",
              " Text(369.46594005449595, 125.02800000000002, 'gini = 0.0\\nsamples = 1\\nvalue = [0, 1]\\nclass = yes D'),\n",
              " Text(375.54768392370573, 125.02800000000002, 'Age <= 33.0\\ngini = 0.5\\nsamples = 2\\nvalue = [1, 1]\\nclass = no D'),\n",
              " Text(372.5068119891008, 114.156, 'gini = 0.0\\nsamples = 1\\nvalue = [1, 0]\\nclass = no D'),\n",
              " Text(378.58855585831066, 114.156, 'gini = 0.0\\nsamples = 1\\nvalue = [0, 1]\\nclass = yes D'),\n",
              " Text(378.58855585831066, 135.9, 'gini = 0.0\\nsamples = 1\\nvalue = [1, 0]\\nclass = no D'),\n",
              " Text(390.75204359673023, 168.51600000000002, 'Age <= 39.5\\ngini = 0.305\\nsamples = 16\\nvalue = [13, 3]\\nclass = no D'),\n",
              " Text(387.71117166212537, 157.644, 'gini = 0.0\\nsamples = 4\\nvalue = [4, 0]\\nclass = no D'),\n",
              " Text(393.79291553133515, 157.644, 'Age <= 42.5\\ngini = 0.375\\nsamples = 12\\nvalue = [9, 3]\\nclass = no D'),\n",
              " Text(387.71117166212537, 146.77200000000002, 'Fare <= 26.5\\ngini = 0.48\\nsamples = 5\\nvalue = [3, 2]\\nclass = no D'),\n",
              " Text(384.67029972752044, 135.9, 'gini = 0.0\\nsamples = 1\\nvalue = [0, 1]\\nclass = yes D'),\n",
              " Text(390.75204359673023, 135.9, 'Familiysize <= 0.5\\ngini = 0.375\\nsamples = 4\\nvalue = [3, 1]\\nclass = no D'),\n",
              " Text(387.71117166212537, 125.02800000000002, 'Fare <= 29.36\\ngini = 0.5\\nsamples = 2\\nvalue = [1, 1]\\nclass = no D'),\n",
              " Text(384.67029972752044, 114.156, 'gini = 0.0\\nsamples = 1\\nvalue = [1, 0]\\nclass = no D'),\n",
              " Text(390.75204359673023, 114.156, 'gini = 0.0\\nsamples = 1\\nvalue = [0, 1]\\nclass = yes D'),\n",
              " Text(393.79291553133515, 125.02800000000002, 'gini = 0.0\\nsamples = 2\\nvalue = [2, 0]\\nclass = no D'),\n",
              " Text(399.87465940054494, 146.77200000000002, 'Age <= 44.5\\ngini = 0.245\\nsamples = 7\\nvalue = [6, 1]\\nclass = no D'),\n",
              " Text(396.8337874659401, 135.9, 'gini = 0.0\\nsamples = 3\\nvalue = [3, 0]\\nclass = no D'),\n",
              " Text(402.91553133514986, 135.9, 'Fare <= 27.525\\ngini = 0.375\\nsamples = 4\\nvalue = [3, 1]\\nclass = no D'),\n",
              " Text(399.87465940054494, 125.02800000000002, 'gini = 0.5\\nsamples = 2\\nvalue = [1, 1]\\nclass = no D'),\n",
              " Text(405.9564032697548, 125.02800000000002, 'gini = 0.0\\nsamples = 2\\nvalue = [2, 0]\\nclass = no D'),\n",
              " Text(396.8337874659401, 190.26000000000002, 'Fare <= 27.631\\ngini = 0.18\\nsamples = 10\\nvalue = [1, 9]\\nclass = yes D'),\n",
              " Text(393.79291553133515, 179.388, 'gini = 0.0\\nsamples = 5\\nvalue = [0, 5]\\nclass = yes D'),\n",
              " Text(399.87465940054494, 179.388, 'Fare <= 29.606\\ngini = 0.32\\nsamples = 5\\nvalue = [1, 4]\\nclass = yes D'),\n",
              " Text(396.8337874659401, 168.51600000000002, 'gini = 0.0\\nsamples = 1\\nvalue = [1, 0]\\nclass = no D'),\n",
              " Text(402.91553133514986, 168.51600000000002, 'gini = 0.0\\nsamples = 4\\nvalue = [0, 4]\\nclass = yes D'),\n",
              " Text(418.1198910081744, 212.00400000000002, 'Age <= 75.5\\ngini = 0.32\\nsamples = 20\\nvalue = [16, 4]\\nclass = no D'),\n",
              " Text(415.0790190735695, 201.132, 'Age <= 58.5\\ngini = 0.266\\nsamples = 19\\nvalue = [16, 3]\\nclass = no D'),\n",
              " Text(412.0381471389646, 190.26000000000002, 'Age <= 54.5\\ngini = 0.397\\nsamples = 11\\nvalue = [8, 3]\\nclass = no D'),\n",
              " Text(408.99727520435965, 179.388, 'gini = 0.0\\nsamples = 3\\nvalue = [3, 0]\\nclass = no D'),\n",
              " Text(415.0790190735695, 179.388, 'Fare <= 33.098\\ngini = 0.469\\nsamples = 8\\nvalue = [5, 3]\\nclass = no D'),\n",
              " Text(412.0381471389646, 168.51600000000002, 'Fare <= 28.125\\ngini = 0.408\\nsamples = 7\\nvalue = [5, 2]\\nclass = no D'),\n",
              " Text(408.99727520435965, 157.644, 'Fare <= 14.175\\ngini = 0.5\\nsamples = 4\\nvalue = [2, 2]\\nclass = no D'),\n",
              " Text(405.9564032697548, 146.77200000000002, 'gini = 0.0\\nsamples = 1\\nvalue = [1, 0]\\nclass = no D'),\n",
              " Text(412.0381471389646, 146.77200000000002, 'Age <= 55.5\\ngini = 0.444\\nsamples = 3\\nvalue = [1, 2]\\nclass = yes D'),\n",
              " Text(408.99727520435965, 135.9, 'gini = 0.0\\nsamples = 1\\nvalue = [0, 1]\\nclass = yes D'),\n",
              " Text(415.0790190735695, 135.9, 'Age <= 57.0\\ngini = 0.5\\nsamples = 2\\nvalue = [1, 1]\\nclass = no D'),\n",
              " Text(412.0381471389646, 125.02800000000002, 'gini = 0.0\\nsamples = 1\\nvalue = [1, 0]\\nclass = no D'),\n",
              " Text(418.1198910081744, 125.02800000000002, 'gini = 0.0\\nsamples = 1\\nvalue = [0, 1]\\nclass = yes D'),\n",
              " Text(415.0790190735695, 157.644, 'gini = 0.0\\nsamples = 3\\nvalue = [3, 0]\\nclass = no D'),\n",
              " Text(418.1198910081744, 168.51600000000002, 'gini = 0.0\\nsamples = 1\\nvalue = [0, 1]\\nclass = yes D'),\n",
              " Text(418.1198910081744, 190.26000000000002, 'gini = 0.0\\nsamples = 8\\nvalue = [8, 0]\\nclass = no D'),\n",
              " Text(421.1607629427793, 201.132, 'gini = 0.0\\nsamples = 1\\nvalue = [0, 1]\\nclass = yes D'),\n",
              " Text(494.99693460490465, 222.876, 'Age <= 43.5\\ngini = 0.37\\nsamples = 102\\nvalue = [25, 77]\\nclass = yes D'),\n",
              " Text(477.60694822888286, 212.00400000000002, 'Pclass <= 1.5\\ngini = 0.298\\nsamples = 77\\nvalue = [14, 63]\\nclass = yes D'),\n",
              " Text(461.0722070844687, 201.132, 'Fare <= 216.558\\ngini = 0.23\\nsamples = 68\\nvalue = [9, 59]\\nclass = yes D'),\n",
              " Text(443.20708446866485, 190.26000000000002, 'Fare <= 54.05\\ngini = 0.177\\nsamples = 61\\nvalue = [6, 55]\\nclass = yes D'),\n",
              " Text(427.24250681198913, 179.388, 'Age <= 23.0\\ngini = 0.408\\nsamples = 7\\nvalue = [2, 5]\\nclass = yes D'),\n",
              " Text(424.2016348773842, 168.51600000000002, 'gini = 0.0\\nsamples = 1\\nvalue = [1, 0]\\nclass = no D'),\n",
              " Text(430.283378746594, 168.51600000000002, 'Age <= 36.0\\ngini = 0.278\\nsamples = 6\\nvalue = [1, 5]\\nclass = yes D'),\n",
              " Text(427.24250681198913, 157.644, 'gini = 0.0\\nsamples = 3\\nvalue = [0, 3]\\nclass = yes D'),\n",
              " Text(433.3242506811989, 157.644, 'Fare <= 52.827\\ngini = 0.444\\nsamples = 3\\nvalue = [1, 2]\\nclass = yes D'),\n",
              " Text(430.283378746594, 146.77200000000002, 'gini = 0.0\\nsamples = 2\\nvalue = [0, 2]\\nclass = yes D'),\n",
              " Text(436.36512261580384, 146.77200000000002, 'gini = 0.0\\nsamples = 1\\nvalue = [1, 0]\\nclass = no D'),\n",
              " Text(459.1716621253406, 179.388, 'Familiysize <= 2.5\\ngini = 0.137\\nsamples = 54\\nvalue = [4, 50]\\nclass = yes D'),\n",
              " Text(451.56948228882834, 168.51600000000002, 'Age <= 24.5\\ngini = 0.111\\nsamples = 51\\nvalue = [3, 48]\\nclass = yes D'),\n",
              " Text(445.48773841961855, 157.644, 'Familiysize <= 0.5\\ngini = 0.208\\nsamples = 17\\nvalue = [2, 15]\\nclass = yes D'),\n",
              " Text(442.44686648501363, 146.77200000000002, 'Fare <= 78.579\\ngini = 0.408\\nsamples = 7\\nvalue = [2, 5]\\nclass = yes D'),\n",
              " Text(439.4059945504087, 135.9, 'gini = 0.0\\nsamples = 2\\nvalue = [0, 2]\\nclass = yes D'),\n",
              " Text(445.48773841961855, 135.9, 'Fare <= 81.179\\ngini = 0.48\\nsamples = 5\\nvalue = [2, 3]\\nclass = yes D'),\n",
              " Text(442.44686648501363, 125.02800000000002, 'gini = 0.0\\nsamples = 1\\nvalue = [1, 0]\\nclass = no D'),\n",
              " Text(448.5286103542234, 125.02800000000002, 'Fare <= 111.067\\ngini = 0.375\\nsamples = 4\\nvalue = [1, 3]\\nclass = yes D'),\n",
              " Text(445.48773841961855, 114.156, 'gini = 0.0\\nsamples = 2\\nvalue = [0, 2]\\nclass = yes D'),\n",
              " Text(451.56948228882834, 114.156, 'Fare <= 143.592\\ngini = 0.5\\nsamples = 2\\nvalue = [1, 1]\\nclass = no D'),\n",
              " Text(448.5286103542234, 103.28400000000002, 'gini = 0.0\\nsamples = 1\\nvalue = [1, 0]\\nclass = no D'),\n",
              " Text(454.61035422343326, 103.28400000000002, 'gini = 0.0\\nsamples = 1\\nvalue = [0, 1]\\nclass = yes D'),\n",
              " Text(448.5286103542234, 146.77200000000002, 'gini = 0.0\\nsamples = 10\\nvalue = [0, 10]\\nclass = yes D'),\n",
              " Text(457.6512261580381, 157.644, 'Fare <= 79.025\\ngini = 0.057\\nsamples = 34\\nvalue = [1, 33]\\nclass = yes D'),\n",
              " Text(454.61035422343326, 146.77200000000002, 'Fare <= 77.79\\ngini = 0.198\\nsamples = 9\\nvalue = [1, 8]\\nclass = yes D'),\n",
              " Text(451.56948228882834, 135.9, 'gini = 0.0\\nsamples = 8\\nvalue = [0, 8]\\nclass = yes D'),\n",
              " Text(457.6512261580381, 135.9, 'gini = 0.0\\nsamples = 1\\nvalue = [1, 0]\\nclass = no D'),\n",
              " Text(460.69209809264305, 146.77200000000002, 'gini = 0.0\\nsamples = 25\\nvalue = [0, 25]\\nclass = yes D'),\n",
              " Text(466.7738419618529, 168.51600000000002, 'Age <= 30.5\\ngini = 0.444\\nsamples = 3\\nvalue = [1, 2]\\nclass = yes D'),\n",
              " Text(463.732970027248, 157.644, 'gini = 0.0\\nsamples = 1\\nvalue = [1, 0]\\nclass = no D'),\n",
              " Text(469.81471389645776, 157.644, 'gini = 0.0\\nsamples = 2\\nvalue = [0, 2]\\nclass = yes D'),\n",
              " Text(478.93732970027247, 190.26000000000002, 'Age <= 31.5\\ngini = 0.49\\nsamples = 7\\nvalue = [3, 4]\\nclass = yes D'),\n",
              " Text(475.8964577656676, 179.388, 'SibSp <= 0.5\\ngini = 0.375\\nsamples = 4\\nvalue = [3, 1]\\nclass = no D'),\n",
              " Text(472.8555858310627, 168.51600000000002, 'gini = 0.0\\nsamples = 3\\nvalue = [3, 0]\\nclass = no D'),\n",
              " Text(478.93732970027247, 168.51600000000002, 'gini = 0.0\\nsamples = 1\\nvalue = [0, 1]\\nclass = yes D'),\n",
              " Text(481.9782016348774, 179.388, 'gini = 0.0\\nsamples = 3\\nvalue = [0, 3]\\nclass = yes D'),\n",
              " Text(494.141689373297, 201.132, 'Fare <= 64.998\\ngini = 0.494\\nsamples = 9\\nvalue = [5, 4]\\nclass = no D'),\n",
              " Text(491.1008174386921, 190.26000000000002, 'Age <= 30.0\\ngini = 0.444\\nsamples = 6\\nvalue = [2, 4]\\nclass = yes D'),\n",
              " Text(488.0599455040872, 179.388, 'Age <= 27.0\\ngini = 0.5\\nsamples = 4\\nvalue = [2, 2]\\nclass = no D'),\n",
              " Text(485.0190735694823, 168.51600000000002, 'gini = 0.0\\nsamples = 1\\nvalue = [0, 1]\\nclass = yes D'),\n",
              " Text(491.1008174386921, 168.51600000000002, 'gini = 0.444\\nsamples = 3\\nvalue = [2, 1]\\nclass = no D'),\n",
              " Text(494.141689373297, 179.388, 'gini = 0.0\\nsamples = 2\\nvalue = [0, 2]\\nclass = yes D'),\n",
              " Text(497.1825613079019, 190.26000000000002, 'gini = 0.0\\nsamples = 3\\nvalue = [3, 0]\\nclass = no D'),\n",
              " Text(512.3869209809264, 212.00400000000002, 'Age <= 46.5\\ngini = 0.493\\nsamples = 25\\nvalue = [11, 14]\\nclass = yes D'),\n",
              " Text(506.3051771117166, 201.132, 'Parch <= 0.5\\ngini = 0.32\\nsamples = 5\\nvalue = [4, 1]\\nclass = no D'),\n",
              " Text(503.26430517711174, 190.26000000000002, 'gini = 0.0\\nsamples = 4\\nvalue = [4, 0]\\nclass = no D'),\n",
              " Text(509.3460490463215, 190.26000000000002, 'gini = 0.0\\nsamples = 1\\nvalue = [0, 1]\\nclass = yes D'),\n",
              " Text(518.4686648501363, 201.132, 'Age <= 62.5\\ngini = 0.455\\nsamples = 20\\nvalue = [7, 13]\\nclass = yes D'),\n",
              " Text(515.4277929155313, 190.26000000000002, 'Fare <= 99.963\\ngini = 0.401\\nsamples = 18\\nvalue = [5, 13]\\nclass = yes D'),\n",
              " Text(509.3460490463215, 179.388, 'Fare <= 63.19\\ngini = 0.245\\nsamples = 14\\nvalue = [2, 12]\\nclass = yes D'),\n",
              " Text(506.3051771117166, 168.51600000000002, 'Age <= 49.5\\ngini = 0.48\\nsamples = 5\\nvalue = [2, 3]\\nclass = yes D'),\n",
              " Text(503.26430517711174, 157.644, 'gini = 0.0\\nsamples = 2\\nvalue = [0, 2]\\nclass = yes D'),\n",
              " Text(509.3460490463215, 157.644, 'Age <= 52.5\\ngini = 0.444\\nsamples = 3\\nvalue = [2, 1]\\nclass = no D'),\n",
              " Text(506.3051771117166, 146.77200000000002, 'gini = 0.0\\nsamples = 2\\nvalue = [2, 0]\\nclass = no D'),\n",
              " Text(512.3869209809264, 146.77200000000002, 'gini = 0.0\\nsamples = 1\\nvalue = [0, 1]\\nclass = yes D'),\n",
              " Text(512.3869209809264, 168.51600000000002, 'gini = 0.0\\nsamples = 9\\nvalue = [0, 9]\\nclass = yes D'),\n",
              " Text(521.5095367847412, 179.388, 'Fare <= 133.369\\ngini = 0.375\\nsamples = 4\\nvalue = [3, 1]\\nclass = no D'),\n",
              " Text(518.4686648501363, 168.51600000000002, 'gini = 0.0\\nsamples = 3\\nvalue = [3, 0]\\nclass = no D'),\n",
              " Text(524.550408719346, 168.51600000000002, 'gini = 0.0\\nsamples = 1\\nvalue = [0, 1]\\nclass = yes D'),\n",
              " Text(521.5095367847412, 190.26000000000002, 'gini = 0.0\\nsamples = 2\\nvalue = [2, 0]\\nclass = no D'),\n",
              " Text(539.7547683923706, 244.62, 'Pclass <= 2.5\\ngini = 0.273\\nsamples = 49\\nvalue = [41, 8]\\nclass = no D'),\n",
              " Text(533.6730245231607, 233.74800000000002, 'Age <= 59.0\\ngini = 0.408\\nsamples = 7\\nvalue = [2, 5]\\nclass = yes D'),\n",
              " Text(530.6321525885559, 222.876, 'Age <= 20.0\\ngini = 0.278\\nsamples = 6\\nvalue = [1, 5]\\nclass = yes D'),\n",
              " Text(527.591280653951, 212.00400000000002, 'Fare <= 262.688\\ngini = 0.5\\nsamples = 2\\nvalue = [1, 1]\\nclass = no D'),\n",
              " Text(524.550408719346, 201.132, 'gini = 0.0\\nsamples = 1\\nvalue = [0, 1]\\nclass = yes D'),\n",
              " Text(530.6321525885559, 201.132, 'gini = 0.0\\nsamples = 1\\nvalue = [1, 0]\\nclass = no D'),\n",
              " Text(533.6730245231607, 212.00400000000002, 'gini = 0.0\\nsamples = 4\\nvalue = [0, 4]\\nclass = yes D'),\n",
              " Text(536.7138964577657, 222.876, 'gini = 0.0\\nsamples = 1\\nvalue = [1, 0]\\nclass = no D'),\n",
              " Text(545.8365122615804, 233.74800000000002, 'Familiysize <= 5.5\\ngini = 0.133\\nsamples = 42\\nvalue = [39, 3]\\nclass = no D'),\n",
              " Text(542.7956403269754, 222.876, 'gini = 0.0\\nsamples = 23\\nvalue = [23, 0]\\nclass = no D'),\n",
              " Text(548.8773841961853, 222.876, 'Familiysize <= 6.5\\ngini = 0.266\\nsamples = 19\\nvalue = [16, 3]\\nclass = no D'),\n",
              " Text(545.8365122615804, 212.00400000000002, 'Fare <= 31.331\\ngini = 0.444\\nsamples = 9\\nvalue = [6, 3]\\nclass = no D'),\n",
              " Text(542.7956403269754, 201.132, 'gini = 0.0\\nsamples = 5\\nvalue = [5, 0]\\nclass = no D'),\n",
              " Text(548.8773841961853, 201.132, 'Age <= 7.0\\ngini = 0.375\\nsamples = 4\\nvalue = [1, 3]\\nclass = yes D'),\n",
              " Text(545.8365122615804, 190.26000000000002, 'gini = 0.0\\nsamples = 2\\nvalue = [0, 2]\\nclass = yes D'),\n",
              " Text(551.9182561307902, 190.26000000000002, 'Age <= 23.5\\ngini = 0.5\\nsamples = 2\\nvalue = [1, 1]\\nclass = no D'),\n",
              " Text(548.8773841961853, 179.388, 'gini = 0.0\\nsamples = 1\\nvalue = [1, 0]\\nclass = no D'),\n",
              " Text(554.9591280653951, 179.388, 'gini = 0.0\\nsamples = 1\\nvalue = [0, 1]\\nclass = yes D'),\n",
              " Text(551.9182561307902, 212.00400000000002, 'gini = 0.0\\nsamples = 10\\nvalue = [10, 0]\\nclass = no D')]"
            ]
          },
          "metadata": {
            "tags": []
          },
          "execution_count": 58
        },
        {
          "output_type": "display_data",
          "data": {
            "image/png": "[encoded data removed]",
            "text/plain": [
              "<Figure size 720x360 with 1 Axes>"
            ]
          },
          "metadata": {
            "tags": [],
            "needs_background": "light"
          }
        }
      ]
    },
    {
      "cell_type": "code",
      "metadata": {
        "id": "Lx8G3Yr-Zg4j"
      },
      "source": [
        "from sklearn.metrics import classification_report\n",
        "def model_performance (x, y, y_pred):\n",
        "  accuracy=print('score:{}'.format(accuracy_score(y, y_pred)))\n",
        "  classy = print(classification_report(y,y_pred))\n",
        "  confusion_matrix = pd.crosstab(y, y_pred, rownames=['Actual'], colnames=['Predicted'])\n",
        "  viz= sns.heatmap(confusion_matrix, annot=True)\n",
        "  return accuracy, classy, viz"
      ],
      "execution_count": 61,
      "outputs": []
    },
    {
      "cell_type": "code",
      "metadata": {
        "colab": {
          "base_uri": "https://localhost:8080/",
          "height": 466
        },
        "id": "V0Bj1EOVZqFq",
        "outputId": "229809dd-2e8b-454f-ed7c-626c9f65c0a9"
      },
      "source": [
        "#performance on training set\n",
        "y_pred1=tree1.predict(x_train)\n",
        "model_performance(x_train, y_train, y_pred1)"
      ],
      "execution_count": 62,
      "outputs": [
        {
          "output_type": "stream",
          "text": [
            "score:0.9578059071729957\n",
            "              precision    recall  f1-score   support\n",
            "\n",
            "           0       0.95      0.99      0.97       441\n",
            "           1       0.98      0.91      0.94       270\n",
            "\n",
            "    accuracy                           0.96       711\n",
            "   macro avg       0.96      0.95      0.95       711\n",
            "weighted avg       0.96      0.96      0.96       711\n",
            "\n"
          ],
          "name": "stdout"
        },
        {
          "output_type": "execute_result",
          "data": {
            "text/plain": [
              "(None, None, <matplotlib.axes._subplots.AxesSubplot at 0x7f4ab754e450>)"
            ]
          },
          "metadata": {
            "tags": []
          },
          "execution_count": 62
        },
        {
          "output_type": "display_data",
          "data": {
            "image/png": "[encoded data removed]",
            "text/plain": [
              "<Figure size 432x288 with 2 Axes>"
            ]
          },
          "metadata": {
            "tags": [],
            "needs_background": "light"
          }
        }
      ]
    },
    {
      "cell_type": "code",
      "metadata": {
        "colab": {
          "base_uri": "https://localhost:8080/",
          "height": 470
        },
        "id": "PmvMjWa2aEUq",
        "outputId": "cfd81a56-9afc-4027-f614-5938859662c8"
      },
      "source": [
        "# performance on testing set\n",
        "y_pred=tree1.predict(x_test)   # evaluating our model\n",
        "model_performance(x_test, y_test, y_pred)"
      ],
      "execution_count": 63,
      "outputs": [
        {
          "output_type": "stream",
          "text": [
            "score:0.6741573033707865\n",
            "              precision    recall  f1-score   support\n",
            "\n",
            "           0       0.73      0.74      0.73       108\n",
            "           1       0.59      0.57      0.58        70\n",
            "\n",
            "    accuracy                           0.67       178\n",
            "   macro avg       0.66      0.66      0.66       178\n",
            "weighted avg       0.67      0.67      0.67       178\n",
            "\n"
          ],
          "name": "stdout"
        },
        {
          "output_type": "execute_result",
          "data": {
            "text/plain": [
              "(None, None, <matplotlib.axes._subplots.AxesSubplot at 0x7f4abc9e1150>)"
            ]
          },
          "metadata": {
            "tags": []
          },
          "execution_count": 63
        },
        {
          "output_type": "display_data",
          "data": {
            "image/png": "[encoded data removed]",
            "text/plain": [
              "<Figure size 432x288 with 2 Axes>"
            ]
          },
          "metadata": {
            "tags": [],
            "needs_background": "light"
          }
        }
      ]
    },
    {
      "cell_type": "code",
      "metadata": {
        "colab": {
          "base_uri": "https://localhost:8080/"
        },
        "id": "E4jWYMm8cSHL",
        "outputId": "68ba8e59-d137-459a-c616-3f614acca130"
      },
      "source": [
        "# pruning\n",
        "dtree= tree.DecisionTreeClassifier(criterion ='gini', splitter ='random',max_leaf_nodes = 15, min_samples_leaf = 7, max_depth=5)\n",
        "dtree.fit(x_train, y_train)"
      ],
      "execution_count": 64,
      "outputs": [
        {
          "output_type": "execute_result",
          "data": {
            "text/plain": [
              "DecisionTreeClassifier(ccp_alpha=0.0, class_weight=None, criterion='gini',\n",
              "                       max_depth=5, max_features=None, max_leaf_nodes=15,\n",
              "                       min_impurity_decrease=0.0, min_impurity_split=None,\n",
              "                       min_samples_leaf=7, min_samples_split=2,\n",
              "                       min_weight_fraction_leaf=0.0, presort='deprecated',\n",
              "                       random_state=None, splitter='random')"
            ]
          },
          "metadata": {
            "tags": []
          },
          "execution_count": 64
        }
      ]
    },
    {
      "cell_type": "code",
      "metadata": {
        "colab": {
          "base_uri": "https://localhost:8080/",
          "height": 466
        },
        "id": "n3xXNPTVcqlK",
        "outputId": "daadde10-b0f2-4a9b-b886-3a4b959b1dfb"
      },
      "source": [
        "y_pred= dtree.predict(x_test)\n",
        "model_performance(x_test, y_test, y_pred)"
      ],
      "execution_count": 65,
      "outputs": [
        {
          "output_type": "stream",
          "text": [
            "score:0.702247191011236\n",
            "              precision    recall  f1-score   support\n",
            "\n",
            "           0       0.71      0.86      0.78       108\n",
            "           1       0.68      0.46      0.55        70\n",
            "\n",
            "    accuracy                           0.70       178\n",
            "   macro avg       0.70      0.66      0.66       178\n",
            "weighted avg       0.70      0.70      0.69       178\n",
            "\n"
          ],
          "name": "stdout"
        },
        {
          "output_type": "execute_result",
          "data": {
            "text/plain": [
              "(None, None, <matplotlib.axes._subplots.AxesSubplot at 0x7f4ab721d3d0>)"
            ]
          },
          "metadata": {
            "tags": []
          },
          "execution_count": 65
        },
        {
          "output_type": "display_data",
          "data": {
            "image/png": "[encoded data removed]",
            "text/plain": [
              "<Figure size 432x288 with 2 Axes>"
            ]
          },
          "metadata": {
            "tags": [],
            "needs_background": "light"
          }
        }
      ]
    },
    {
      "cell_type": "markdown",
      "metadata": {
        "id": "cnMMTRnyc9IW"
      },
      "source": [
        "slight amelioration of the model's performance"
      ]
    },
    {
      "cell_type": "code",
      "metadata": {
        "id": "l5iC-iLgdCUZ"
      },
      "source": [
        "#using random forrest model\n",
        "from sklearn.ensemble import RandomForestClassifier\n",
        "clf=RandomForestClassifier(n_estimators=10) \n",
        "clf.fit(x_train, y_train)  \n",
        "y_predd=clf.predict(x_test)"
      ],
      "execution_count": 66,
      "outputs": []
    },
    {
      "cell_type": "code",
      "metadata": {
        "colab": {
          "base_uri": "https://localhost:8080/",
          "height": 466
        },
        "id": "eabU2erheLvo",
        "outputId": "b86bc2ef-4b2e-4506-ea7a-1251ce3551be"
      },
      "source": [
        "model_performance(x_test, y_test, y_predd)\n"
      ],
      "execution_count": 67,
      "outputs": [
        {
          "output_type": "stream",
          "text": [
            "score:0.6853932584269663\n",
            "              precision    recall  f1-score   support\n",
            "\n",
            "           0       0.74      0.75      0.74       108\n",
            "           1       0.60      0.59      0.59        70\n",
            "\n",
            "    accuracy                           0.69       178\n",
            "   macro avg       0.67      0.67      0.67       178\n",
            "weighted avg       0.68      0.69      0.68       178\n",
            "\n"
          ],
          "name": "stdout"
        },
        {
          "output_type": "execute_result",
          "data": {
            "text/plain": [
              "(None, None, <matplotlib.axes._subplots.AxesSubplot at 0x7f4ab71bb890>)"
            ]
          },
          "metadata": {
            "tags": []
          },
          "execution_count": 67
        },
        {
          "output_type": "display_data",
          "data": {
            "image/png": "[encoded data removed]",
            "text/plain": [
              "<Figure size 432x288 with 2 Axes>"
            ]
          },
          "metadata": {
            "tags": [],
            "needs_background": "light"
          }
        }
      ]
    },
    {
      "cell_type": "code",
      "metadata": {
        "id": "zH1vHuuSeSch"
      },
      "source": [
        "#changing the estimator's number\n",
        "clf=RandomForestClassifier(n_estimators=12) \n",
        "clf.fit(x_train, y_train)  \n",
        "y_predd=clf.predict(x_test)  "
      ],
      "execution_count": 68,
      "outputs": []
    },
    {
      "cell_type": "code",
      "metadata": {
        "colab": {
          "base_uri": "https://localhost:8080/",
          "height": 470
        },
        "id": "0ogXEJswedpt",
        "outputId": "019e15d3-d20a-4d76-e9ab-5cf756d85872"
      },
      "source": [
        "model_performance(x_test, y_test, y_predd)"
      ],
      "execution_count": 69,
      "outputs": [
        {
          "output_type": "stream",
          "text": [
            "score:0.6797752808988764\n",
            "              precision    recall  f1-score   support\n",
            "\n",
            "           0       0.73      0.74      0.74       108\n",
            "           1       0.59      0.59      0.59        70\n",
            "\n",
            "    accuracy                           0.68       178\n",
            "   macro avg       0.66      0.66      0.66       178\n",
            "weighted avg       0.68      0.68      0.68       178\n",
            "\n"
          ],
          "name": "stdout"
        },
        {
          "output_type": "execute_result",
          "data": {
            "text/plain": [
              "(None, None, <matplotlib.axes._subplots.AxesSubplot at 0x7f4ab6e21590>)"
            ]
          },
          "metadata": {
            "tags": []
          },
          "execution_count": 69
        },
        {
          "output_type": "display_data",
          "data": {
            "image/png": "[encoded data removed]",
            "text/plain": [
              "<Figure size 432x288 with 2 Axes>"
            ]
          },
          "metadata": {
            "tags": [],
            "needs_background": "light"
          }
        }
      ]
    },
    {
      "cell_type": "markdown",
      "metadata": {
        "id": "z0X0AoZ2eh1z"
      },
      "source": [
        "the decision tree model seems to be the best model fitting this dataset, maybe because the dataset is not large so it doesn't require a very strong model"
      ]
    }
  ]
}